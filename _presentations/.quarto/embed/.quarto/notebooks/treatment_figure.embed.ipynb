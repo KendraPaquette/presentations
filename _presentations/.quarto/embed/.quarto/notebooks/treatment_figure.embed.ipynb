{
  "cells": [
    {
      "cell_type": "markdown",
      "metadata": {},
      "source": [
        "# Treatment figure with SAMHSA 2022 data\n",
        "\n",
        "Kendra Wyant"
      ],
      "id": "eb3268aa-2b79-4e4c-9e41-7bf7cd4276ee"
    },
    {
      "cell_type": "code",
      "execution_count": null,
      "metadata": {},
      "outputs": [],
      "source": [
        "#| message: false\n",
        "\n",
        "library(tidyverse)\n",
        "\n",
        "theme_set(theme_classic())\n",
        "\n",
        "devtools::source_url(\"https://github.com/jjcurtin/lab_support/blob/main/format_path.R?raw=true\")\n",
        "\n",
        "path_data <- (\"R:/studydata/other/samhsa\")\n",
        "\n",
        "load(here::here(path_data, \"NSDUH_2022.Rdata\"))"
      ],
      "id": "4d221c8b-7353-4ae1-b1b5-a32b1da163b4"
    },
    {
      "cell_type": "markdown",
      "metadata": {},
      "source": [
        "Recode levels based on codebook"
      ],
      "id": "ac3791d7-a205-484b-90f0-236b79f104f7"
    },
    {
      "cell_type": "code",
      "execution_count": null,
      "metadata": {},
      "outputs": [],
      "source": [
        "#| message: false\n",
        "\n",
        "d <- NSDUH_2022 |> \n",
        "  mutate(subid = QUESTID2,\n",
        "         race = if_else(NEWRACE2 == 1, \"Non-Hispanic White\", \"Other\"),\n",
        "         sex = if_else(irsex == 1, \"man\", \"woman\"),\n",
        "         age = case_when(AGE3 == 1 ~ \"12-13\",\n",
        "                         AGE3 == 2 ~ \"14-15\", \n",
        "                         AGE3 == 3 ~ \"16-17\",\n",
        "                         AGE3 == 4 ~ \"18-20\",\n",
        "                         AGE3 == 5 ~ \"21-23\",\n",
        "                         AGE3 == 6 ~ \"24-25\",\n",
        "                         AGE3 == 7 ~ \"26-29\",\n",
        "                         AGE3 == 8 ~ \"30-34\",\n",
        "                         AGE3 == 9 ~ \"35-49\",\n",
        "                         AGE3 == 10 ~ \"50-64\",\n",
        "                         AGE3 == 11 ~ \"65+\"),\n",
        "         income = factor(IRPINC3, \n",
        "                         levels = 1:7, \n",
        "                         labels = c(\"< 10,000\", \"10,000 - 19,999\", \"20,000 - 29,999\",\n",
        "                                    \"30,000 - 39,999\", \"40,000 - 49,999\", \"50,000 - 74,999\",\n",
        "                                    \"75,000+\") ),\n",
        "         poverty = factor(POVERTY3, levels = 1:3, \n",
        "                          labels = c(\"poverty\", \"up to 2x federal poverty threshold\",\n",
        "                                     \"more than 2x federal poverty threshold\")),\n",
        "         employment = factor(WRKSTATWK2,\n",
        "                             levels = 1:9,\n",
        "                             labels = c(\"full-time\", \"part-time\", \"student\",\n",
        "                                        \"volunteer or has job but did not work in past week\",\n",
        "                                        \"unemployed/looking for work\", \"disabled\",\n",
        "                                        \"keeping house full-time\", \"retired\",\n",
        "                                        \"not working for other reason\")),\n",
        "         marital = factor(irmarit, \n",
        "                          levels = 1:4,\n",
        "                          labels = c(\"married\", \"widowed\", \"divorced or separated\",\n",
        "                                     \"never been married\")),\n",
        "         education = factor(IREDUHIGHST2,\n",
        "                            levels = 1:11,\n",
        "                            labels = c(\"fifth grade or less\",\n",
        "                                       \"sixth grade\",\n",
        "                                       \"seventh grade\",\n",
        "                                       \"eighth grade\",\n",
        "                                       \"ninth grade\",\n",
        "                                       \"tenth grade\",\n",
        "                                       \"eleventh or twelfth grade (no diploma)\",\n",
        "                                       \"high school diploma/GED\",\n",
        "                                       \"some college\",\n",
        "                                       \"Associate's degree\",\n",
        "                                       \"college graduate or higher\")),\n",
        "         aud_past_year = if_else(IRPYUD5ALC == 1, \"yes\", \"no\"),\n",
        "         aud_sev_past_year = factor(IRPYSEV5ALC, \n",
        "                                    levels = c(1,2,3,9),\n",
        "                                    labels = c(\"mild\", \"moderate\", \"severe\", \"none\")),\n",
        "         aud_tx_clinician_past_year = if_else(irsutinhosp == 1 | irsutinrhab == 1 |\n",
        "                                               irsutinrsmh == 1 | irsutinopl == 1 | irsutoutrhab == 1 |\n",
        "                                                irsutoutmhcr == 1 | irsutoutthrp == 1 | irsutoutdoc == 1 |\n",
        "                                                irsutouthosp == 1 | irsutoutschl == 1 | irsutoutopl == 1 |\n",
        "                                                irsutrxalc == 1 | irsutphvid == 1 | irsutdetox == 1,\n",
        "                                    \"yes\", \"no\"),\n",
        "         aud_tx_clinician_carceral_past_year = if_else(irsutinhosp == 1 | irsutinrhab == 1 |\n",
        "                                               irsutinrsmh == 1 | irsutinopl == 1 | irsutoutrhab == 1 |\n",
        "                                                irsutoutmhcr == 1 | irsutoutthrp == 1 | irsutoutdoc == 1 |\n",
        "                                                irsutouthosp == 1 | irsutoutschl == 1 | irsutoutopl == 1 |\n",
        "                                                irsutrxalc == 1 | irsutphvid == 1 | irsutdetox == 1 |\n",
        "                                               sutrtalcpy == 1 | sutrtdralpy == 1,\n",
        "                                    \"yes\", \"no\"),\n",
        "         aud_tx_any_past_year = if_else(irsutinhosp == 1 | irsutinrhab == 1 | irsutinrsmh == 1 | \n",
        "                                          irsutinopl == 1 | irsutoutrhab == 1 | irsutoutmhcr == 1 |\n",
        "                                          irsutoutthrp == 1 | irsutoutdoc == 1 | irsutouthosp == 1 |\n",
        "                                          irsutoutschl == 1 | irsutoutopl == 1 | irsutrxalc == 1 |\n",
        "                                          irsutphvid == 1 | irsutdetox == 1  | irsutpeerspc == 1 |\n",
        "                                          irsutsuppgrp == 1,\n",
        "                                    \"yes\", \"no\"))"
      ],
      "id": "ed039b17-19d5-4331-ade2-ed0ccc4e5bca"
    },
    {
      "cell_type": "markdown",
      "metadata": {},
      "source": [
        "## AUD prevalence\n",
        "\n",
        "11% of individuals in data set met criteria for AUD"
      ],
      "id": "5a8a01ad-72c2-4f25-8ab6-140fc6c518b4"
    },
    {
      "cell_type": "code",
      "execution_count": null,
      "metadata": {},
      "outputs": [
        {
          "output_type": "stream",
          "name": "stdout",
          "text": [
            " d$aud_past_year     n   percent\n",
            "              no 52725 0.8926002\n",
            "             yes  6344 0.1073998"
          ]
        }
      ],
      "source": [
        "janitor::tabyl(d$aud_past_year)"
      ],
      "id": "ca5ae32b-c41e-4c5b-86ea-a82518eded9d"
    },
    {
      "cell_type": "markdown",
      "metadata": {},
      "source": [
        "Filter down to those who met criteria for AUD"
      ],
      "id": "43afc101-816d-4111-8629-2e976baff838"
    },
    {
      "cell_type": "code",
      "execution_count": null,
      "metadata": {},
      "outputs": [],
      "source": [
        "d <- d |> \n",
        "  filter(aud_past_year == \"yes\")"
      ],
      "id": "ac0ad69b-71cb-4d05-a368-e26a399c2320"
    },
    {
      "cell_type": "markdown",
      "metadata": {},
      "source": [
        "## Obtained AUD tx (age 12+)\n",
        "\n",
        "### Clinican delivered\n",
        "\n",
        "Defined as treatment for alcohol or alcohol and drugs combined in the\n",
        "following settings:  \n",
        "- outpatient - inpatient - professional tx over phone or through video -\n",
        "medication tx - detox"
      ],
      "id": "adb10d1d-bdd7-4e46-adbd-14c5f0510b1a"
    },
    {
      "cell_type": "code",
      "execution_count": null,
      "metadata": {},
      "outputs": [
        {
          "output_type": "stream",
          "name": "stdout",
          "text": [
            " d$aud_tx_clinician_past_year    n   percent\n",
            "                           no 5520 0.8701135\n",
            "                          yes  824 0.1298865"
          ]
        }
      ],
      "source": [
        "janitor::tabyl(d$aud_tx_clinician_past_year)"
      ],
      "id": "f0fd61c3-8c3b-4998-aa52-5534bb5e97f8"
    },
    {
      "cell_type": "markdown",
      "metadata": {},
      "source": [
        "### Clinician delivered (including carceral settings)\n",
        "\n",
        "Note: can’t be entirely sure about the precision of this distinction"
      ],
      "id": "0052f948-f32d-4358-beaf-71143ab3452f"
    },
    {
      "cell_type": "code",
      "execution_count": null,
      "metadata": {},
      "outputs": [
        {
          "output_type": "stream",
          "name": "stdout",
          "text": [
            " d$aud_tx_clinician_carceral_past_year    n   percent\n",
            "                                    no 5518 0.8697982\n",
            "                                   yes  826 0.1302018"
          ]
        }
      ],
      "source": [
        "janitor::tabyl(d$aud_tx_clinician_carceral_past_year)"
      ],
      "id": "b6a63b4c-0361-49a2-81bd-aa44d407a9be"
    },
    {
      "cell_type": "markdown",
      "metadata": {},
      "source": [
        "### Any treatment\n",
        "\n",
        "Includes the addition of support groups and peer support specialist or\n",
        "recovery coaches"
      ],
      "id": "817bd483-711c-4785-8c4c-54eb964e4c28"
    },
    {
      "cell_type": "code",
      "execution_count": null,
      "metadata": {},
      "outputs": [
        {
          "output_type": "stream",
          "name": "stdout",
          "text": [
            " d$aud_tx_any_past_year    n   percent\n",
            "                     no 5425 0.8551387\n",
            "                    yes  919 0.1448613"
          ]
        }
      ],
      "source": [
        "janitor::tabyl(d$aud_tx_any_past_year)"
      ],
      "id": "a8290dbf-2ee5-4d56-8f73-a2a1f692210b"
    },
    {
      "cell_type": "markdown",
      "metadata": {},
      "source": [
        "## Obtained AUD tx (age 18+)\n",
        "\n",
        "### Clinican delivered"
      ],
      "id": "e2a847f4-e204-41a1-aaf1-a46ade7fe704"
    },
    {
      "cell_type": "code",
      "execution_count": null,
      "metadata": {},
      "outputs": [
        {
          "output_type": "stream",
          "name": "stdout",
          "text": [
            " aud_tx_clinician_past_year    n  percent\n",
            "                         no 5211 0.875504\n",
            "                        yes  741 0.124496"
          ]
        }
      ],
      "source": [
        "d |> \n",
        "  filter(!age %in% c(\"12-13\", \"14-15\", \"16-17\")) |>\n",
        "  janitor::tabyl(aud_tx_clinician_past_year)"
      ],
      "id": "0f7f9d65-a99e-4c2a-b5e9-080958aae892"
    },
    {
      "cell_type": "markdown",
      "metadata": {},
      "source": [
        "### Clinician delivered (including carceral settings)"
      ],
      "id": "93f40082-4015-43dc-b616-d5b09d1591d6"
    },
    {
      "cell_type": "code",
      "execution_count": null,
      "metadata": {},
      "outputs": [
        {
          "output_type": "stream",
          "name": "stdout",
          "text": [
            " aud_tx_clinician_carceral_past_year    n  percent\n",
            "                                  no 5209 0.875168\n",
            "                                 yes  743 0.124832"
          ]
        }
      ],
      "source": [
        "d |> \n",
        "  filter(!age %in% c(\"12-13\", \"14-15\", \"16-17\")) |>\n",
        "  janitor::tabyl(aud_tx_clinician_carceral_past_year)"
      ],
      "id": "fd156423-ea01-4e99-bd6a-c60c77682ca0"
    },
    {
      "cell_type": "markdown",
      "metadata": {},
      "source": [
        "### Any treatment\n",
        "\n",
        "Includes the addition of support groups and peer support specialist or\n",
        "recovery coaches"
      ],
      "id": "6edce231-01af-4daf-92a0-62eddc9bf7c4"
    },
    {
      "cell_type": "code",
      "execution_count": null,
      "metadata": {},
      "outputs": [
        {
          "output_type": "stream",
          "name": "stdout",
          "text": [
            " aud_tx_any_past_year    n  percent\n",
            "                   no 5119 0.860047\n",
            "                  yes  833 0.139953"
          ]
        }
      ],
      "source": [
        "d |> \n",
        "  filter(!age %in% c(\"12-13\", \"14-15\", \"16-17\")) |>\n",
        "  janitor::tabyl(aud_tx_any_past_year)"
      ],
      "id": "d90da1d8-83d4-48e3-9c6e-bb7a2269d9ed"
    },
    {
      "cell_type": "markdown",
      "metadata": {},
      "source": [
        "## Figure Using clinican care for US adults\n",
        "\n",
        "**Note: SAMHSA data for 2023 suggest this number lowers from 12% to less\n",
        "than 10%, but data is not available to download yet.**"
      ],
      "id": "a6fa6018-0b8e-4492-96b9-3959230e1948"
    },
    {
      "cell_type": "code",
      "execution_count": null,
      "metadata": {
        "out-align": "right"
      },
      "outputs": [
        {
          "output_type": "display_data",
          "metadata": {},
          "data": {
            "image/png": "[encoded data removed]"
          }
        }
      ],
      "source": [
        "#| label: samhsa\n",
        "#| out-align: right\n",
        "\n",
        "tx_summary <- d |> \n",
        "  filter(!age %in% c(\"12-13\", \"14-15\", \"16-17\")) |> \n",
        "  mutate(`Past year AUD` = \"yes\") |> \n",
        "  rename(`Receieved any treatment` = aud_tx_clinician_past_year) |>\n",
        "  pivot_longer(cols = c(`Past year AUD`, `Receieved any treatment`)) |> \n",
        "  mutate(name = factor(name),\n",
        "         value = if_else(value == \"yes\", 1, 0)) |> \n",
        "  group_by(name) |> \n",
        "  summarize(value = sum(value), \n",
        "            proportion = value/nrow(subset(d, !age %in% c(\"12-13\", \"14-15\", \"16-17\"))), \n",
        "            .groups = \"drop\") |> \n",
        "  mutate(label = c(\"28 Million\", \"3.4 Million\"))\n",
        "\n",
        "unknown <- tibble(name = \"Continuing care\", \n",
        "                   value = pull(subset(tx_summary, name == \"Receieved any treatment\"), value),\n",
        "                   proportion = pull(subset(tx_summary, name == \"Receieved any treatment\"), proportion),\n",
        "            label = \"?\")\n",
        "\n",
        "tx_summary |>\n",
        "  ggplot(aes(x = name, y = proportion)) +\n",
        "  geom_bar(stat = \"identity\", \n",
        "           fill = \"grey\",\n",
        "           color = \"black\",\n",
        "           linewidth = .7) +\n",
        "  geom_bar(data = unknown,\n",
        "           aes(x = name, y = proportion), \n",
        "           fill = \"white\", color = \"black\", \n",
        "           stat = \"identity\", \n",
        "           linetype = \"dashed\",\n",
        "           linewidth = .7) +\n",
        "  geom_text(aes(label = label), \n",
        "            vjust = -0.5,               \n",
        "            color = \"black\",\n",
        "            size = 5) +\n",
        "  geom_text(data = unknown,\n",
        "            aes(label = label), \n",
        "            vjust = -0.5,               \n",
        "            color = \"black\",\n",
        "            size = 5) +\n",
        "  labs(x = NULL,\n",
        "       y = NULL) +\n",
        "  scale_y_continuous(limits = c(0, 1), labels = scales::percent_format()) +\n",
        "  theme(axis.text = element_text(size = 14),        \n",
        "        axis.title = element_text(size = 16),       \n",
        "        axis.line = element_line(linewidth = .7))  "
      ],
      "id": "9f15a77c-0873-4417-b1cf-f094c8a4a92b"
    }
  ],
  "nbformat": 4,
  "nbformat_minor": 5,
  "metadata": {
    "kernelspec": {
      "display_name": "Python 3",
      "language": "python",
      "name": "python3"
    }
  }
}