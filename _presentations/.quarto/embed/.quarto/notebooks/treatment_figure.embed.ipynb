{
  "cells": [
    {
      "cell_type": "markdown",
      "metadata": {},
      "source": [
        "# Treatment figure with SAMHSA 2022 data\n",
        "\n",
        "Kendra Wyant"
      ],
      "id": "b1f01597-9078-45cf-bee7-654b4beb4427"
    },
    {
      "cell_type": "code",
      "execution_count": null,
      "metadata": {},
      "outputs": [],
      "source": [
        "#| message: false\n",
        "\n",
        "library(tidyverse)\n",
        "\n",
        "theme_set(theme_classic())\n",
        "\n",
        "devtools::source_url(\"https://github.com/jjcurtin/lab_support/blob/main/format_path.R?raw=true\")\n",
        "\n",
        "path_data <- (\"R:/studydata/other/samhsa\")\n",
        "\n",
        "load(here::here(path_data, \"NSDUH_2022.Rdata\"))"
      ],
      "id": "c16d16cb-fc13-49da-b9be-ffa312d69190"
    },
    {
      "cell_type": "markdown",
      "metadata": {},
      "source": [
        "Recode levels based on codebook"
      ],
      "id": "61afe7ed-ad5e-4590-ab71-eeca4453e815"
    },
    {
      "cell_type": "code",
      "execution_count": null,
      "metadata": {},
      "outputs": [],
      "source": [
        "#| message: false\n",
        "\n",
        "d <- NSDUH_2022 |> \n",
        "  mutate(subid = QUESTID2,\n",
        "         race = if_else(NEWRACE2 == 1, \"Non-Hispanic White\", \"Other\"),\n",
        "         sex = if_else(irsex == 1, \"man\", \"woman\"),\n",
        "         age = case_when(AGE3 == 1 ~ \"12-13\",\n",
        "                         AGE3 == 2 ~ \"14-15\", \n",
        "                         AGE3 == 3 ~ \"16-17\",\n",
        "                         AGE3 == 4 ~ \"18-20\",\n",
        "                         AGE3 == 5 ~ \"21-23\",\n",
        "                         AGE3 == 6 ~ \"24-25\",\n",
        "                         AGE3 == 7 ~ \"26-29\",\n",
        "                         AGE3 == 8 ~ \"30-34\",\n",
        "                         AGE3 == 9 ~ \"35-49\",\n",
        "                         AGE3 == 10 ~ \"50-64\",\n",
        "                         AGE3 == 11 ~ \"65+\"),\n",
        "         income = factor(IRPINC3, \n",
        "                         levels = 1:7, \n",
        "                         labels = c(\"< 10,000\", \"10,000 - 19,999\", \"20,000 - 29,999\",\n",
        "                                    \"30,000 - 39,999\", \"40,000 - 49,999\", \"50,000 - 74,999\",\n",
        "                                    \"75,000+\") ),\n",
        "         poverty = factor(POVERTY3, levels = 1:3, \n",
        "                          labels = c(\"poverty\", \"up to 2x federal poverty threshold\",\n",
        "                                     \"more than 2x federal poverty threshold\")),\n",
        "         employment = factor(WRKSTATWK2,\n",
        "                             levels = 1:9,\n",
        "                             labels = c(\"full-time\", \"part-time\", \"student\",\n",
        "                                        \"volunteer or has job but did not work in past week\",\n",
        "                                        \"unemployed/looking for work\", \"disabled\",\n",
        "                                        \"keeping house full-time\", \"retired\",\n",
        "                                        \"not working for other reason\")),\n",
        "         marital = factor(irmarit, \n",
        "                          levels = 1:4,\n",
        "                          labels = c(\"married\", \"widowed\", \"divorced or separated\",\n",
        "                                     \"never been married\")),\n",
        "         education = factor(IREDUHIGHST2,\n",
        "                            levels = 1:11,\n",
        "                            labels = c(\"fifth grade or less\",\n",
        "                                       \"sixth grade\",\n",
        "                                       \"seventh grade\",\n",
        "                                       \"eighth grade\",\n",
        "                                       \"ninth grade\",\n",
        "                                       \"tenth grade\",\n",
        "                                       \"eleventh or twelfth grade (no diploma)\",\n",
        "                                       \"high school diploma/GED\",\n",
        "                                       \"some college\",\n",
        "                                       \"Associate's degree\",\n",
        "                                       \"college graduate or higher\")),\n",
        "         aud_past_year = if_else(IRPYUD5ALC == 1, \"yes\", \"no\"),\n",
        "         aud_sev_past_year = factor(IRPYSEV5ALC, \n",
        "                                    levels = c(1,2,3,9),\n",
        "                                    labels = c(\"mild\", \"moderate\", \"severe\", \"none\")),\n",
        "         aud_tx_clinician_past_year = if_else(irsutinhosp == 1 | irsutinrhab == 1 |\n",
        "                                               irsutinrsmh == 1 | irsutinopl == 1 | irsutoutrhab == 1 |\n",
        "                                                irsutoutmhcr == 1 | irsutoutthrp == 1 | irsutoutdoc == 1 |\n",
        "                                                irsutouthosp == 1 | irsutoutschl == 1 | irsutoutopl == 1 |\n",
        "                                                irsutrxalc == 1 | irsutphvid == 1 | irsutdetox == 1,\n",
        "                                    \"yes\", \"no\"),\n",
        "         aud_tx_clinician_carceral_past_year = if_else(irsutinhosp == 1 | irsutinrhab == 1 |\n",
        "                                               irsutinrsmh == 1 | irsutinopl == 1 | irsutoutrhab == 1 |\n",
        "                                                irsutoutmhcr == 1 | irsutoutthrp == 1 | irsutoutdoc == 1 |\n",
        "                                                irsutouthosp == 1 | irsutoutschl == 1 | irsutoutopl == 1 |\n",
        "                                                irsutrxalc == 1 | irsutphvid == 1 | irsutdetox == 1 |\n",
        "                                               sutrtalcpy == 1 | sutrtdralpy == 1,\n",
        "                                    \"yes\", \"no\"),\n",
        "         aud_tx_any_past_year = if_else(irsutinhosp == 1 | irsutinrhab == 1 | irsutinrsmh == 1 | \n",
        "                                          irsutinopl == 1 | irsutoutrhab == 1 | irsutoutmhcr == 1 |\n",
        "                                          irsutoutthrp == 1 | irsutoutdoc == 1 | irsutouthosp == 1 |\n",
        "                                          irsutoutschl == 1 | irsutoutopl == 1 | irsutrxalc == 1 |\n",
        "                                          irsutphvid == 1 | irsutdetox == 1  | irsutpeerspc == 1 |\n",
        "                                          irsutsuppgrp == 1,\n",
        "                                    \"yes\", \"no\"))"
      ],
      "id": "0450e248-4079-4b32-b365-e1ad26ad943e"
    },
    {
      "cell_type": "markdown",
      "metadata": {},
      "source": [
        "## AUD prevalence\n",
        "\n",
        "11% of individuals in data set met criteria for AUD"
      ],
      "id": "af098620-dd28-42b2-b588-9592f2a61d73"
    },
    {
      "cell_type": "code",
      "execution_count": null,
      "metadata": {},
      "outputs": [
        {
          "output_type": "stream",
          "name": "stdout",
          "text": [
            " d$aud_past_year     n   percent\n",
            "              no 52725 0.8926002\n",
            "             yes  6344 0.1073998"
          ]
        }
      ],
      "source": [
        "janitor::tabyl(d$aud_past_year)"
      ],
      "id": "df3d5880-4474-4596-a0c3-0eadb12732b4"
    },
    {
      "cell_type": "markdown",
      "metadata": {},
      "source": [
        "Filter down to those who met criteria for AUD"
      ],
      "id": "35d048f6-8a2d-4942-ab97-3aa4cd2623c5"
    },
    {
      "cell_type": "code",
      "execution_count": null,
      "metadata": {},
      "outputs": [],
      "source": [
        "d <- d |> \n",
        "  filter(aud_past_year == \"yes\")"
      ],
      "id": "166cc661-9f7d-42b8-973a-45632ef07a5e"
    },
    {
      "cell_type": "markdown",
      "metadata": {},
      "source": [
        "## Obtained AUD tx (age 12+)\n",
        "\n",
        "### Clinican delivered\n",
        "\n",
        "Defined as treatment for alcohol or alcohol and drugs combined in the\n",
        "following settings:  \n",
        "- outpatient - inpatient - professional tx over phone or through video -\n",
        "medication tx - detox"
      ],
      "id": "5734cd41-c6aa-4b27-bc20-ae280c569974"
    },
    {
      "cell_type": "code",
      "execution_count": null,
      "metadata": {},
      "outputs": [
        {
          "output_type": "stream",
          "name": "stdout",
          "text": [
            " d$aud_tx_clinician_past_year    n   percent\n",
            "                           no 5520 0.8701135\n",
            "                          yes  824 0.1298865"
          ]
        }
      ],
      "source": [
        "janitor::tabyl(d$aud_tx_clinician_past_year)"
      ],
      "id": "f05b1b2c-0a5e-494d-8bea-bae9ccb0accd"
    },
    {
      "cell_type": "markdown",
      "metadata": {},
      "source": [
        "### Clinician delivered (including carceral settings)\n",
        "\n",
        "Note: can’t be entirely sure about the precision of this distinction"
      ],
      "id": "7e93d00f-e026-408e-89ae-95946ad1978a"
    },
    {
      "cell_type": "code",
      "execution_count": null,
      "metadata": {},
      "outputs": [
        {
          "output_type": "stream",
          "name": "stdout",
          "text": [
            " d$aud_tx_clinician_carceral_past_year    n   percent\n",
            "                                    no 5518 0.8697982\n",
            "                                   yes  826 0.1302018"
          ]
        }
      ],
      "source": [
        "janitor::tabyl(d$aud_tx_clinician_carceral_past_year)"
      ],
      "id": "125e2f0a-6993-43e9-9869-31309352d7a3"
    },
    {
      "cell_type": "markdown",
      "metadata": {},
      "source": [
        "### Any treatment\n",
        "\n",
        "Includes the addition of support groups and peer support specialist or\n",
        "recovery coaches"
      ],
      "id": "7e55f7b9-2cce-42b5-9b29-c5cc1413dded"
    },
    {
      "cell_type": "code",
      "execution_count": null,
      "metadata": {},
      "outputs": [
        {
          "output_type": "stream",
          "name": "stdout",
          "text": [
            " d$aud_tx_any_past_year    n   percent\n",
            "                     no 5425 0.8551387\n",
            "                    yes  919 0.1448613"
          ]
        }
      ],
      "source": [
        "janitor::tabyl(d$aud_tx_any_past_year)"
      ],
      "id": "72a320c2-4ed3-43f8-892d-a047caab015c"
    },
    {
      "cell_type": "markdown",
      "metadata": {},
      "source": [
        "## Obtained AUD tx (age 18+)\n",
        "\n",
        "### Clinican delivered"
      ],
      "id": "7c4aea60-85b7-460f-91a6-0f9212b1f35d"
    },
    {
      "cell_type": "code",
      "execution_count": null,
      "metadata": {},
      "outputs": [
        {
          "output_type": "stream",
          "name": "stdout",
          "text": [
            " aud_tx_clinician_past_year    n  percent\n",
            "                         no 5211 0.875504\n",
            "                        yes  741 0.124496"
          ]
        }
      ],
      "source": [
        "d |> \n",
        "  filter(!age %in% c(\"12-13\", \"14-15\", \"16-17\")) |>\n",
        "  janitor::tabyl(aud_tx_clinician_past_year)"
      ],
      "id": "079dbebc-acbf-46d7-843d-23eaabb13252"
    },
    {
      "cell_type": "markdown",
      "metadata": {},
      "source": [
        "### Clinician delivered (including carceral settings)"
      ],
      "id": "052e88ed-b9d8-40b6-9989-a8c413640625"
    },
    {
      "cell_type": "code",
      "execution_count": null,
      "metadata": {},
      "outputs": [
        {
          "output_type": "stream",
          "name": "stdout",
          "text": [
            " aud_tx_clinician_carceral_past_year    n  percent\n",
            "                                  no 5209 0.875168\n",
            "                                 yes  743 0.124832"
          ]
        }
      ],
      "source": [
        "d |> \n",
        "  filter(!age %in% c(\"12-13\", \"14-15\", \"16-17\")) |>\n",
        "  janitor::tabyl(aud_tx_clinician_carceral_past_year)"
      ],
      "id": "c5824cf8-4cc3-41aa-a850-5a35872cd021"
    },
    {
      "cell_type": "markdown",
      "metadata": {},
      "source": [
        "### Any treatment\n",
        "\n",
        "Includes the addition of support groups and peer support specialist or\n",
        "recovery coaches"
      ],
      "id": "474e85a2-29e5-4c7f-b87d-279a4b7100e3"
    },
    {
      "cell_type": "code",
      "execution_count": null,
      "metadata": {},
      "outputs": [
        {
          "output_type": "stream",
          "name": "stdout",
          "text": [
            " aud_tx_any_past_year    n  percent\n",
            "                   no 5119 0.860047\n",
            "                  yes  833 0.139953"
          ]
        }
      ],
      "source": [
        "d |> \n",
        "  filter(!age %in% c(\"12-13\", \"14-15\", \"16-17\")) |>\n",
        "  janitor::tabyl(aud_tx_any_past_year)"
      ],
      "id": "fd7ef9cf-a9c6-45af-a2ad-072c48b10fe6"
    },
    {
      "cell_type": "markdown",
      "metadata": {},
      "source": [
        "## Figure Using clinican care for US adults\n",
        "\n",
        "**Note: SAMHSA data for 2023 suggest this number lowers from 12% to less\n",
        "than 10%, but data is not available to download yet.**"
      ],
      "id": "0f0ab308-1b58-4f0a-8b16-3e439c59d0c7"
    },
    {
      "cell_type": "code",
      "execution_count": null,
      "metadata": {
        "out-align": "center"
      },
      "outputs": [
        {
          "output_type": "display_data",
          "metadata": {},
          "data": {
            "image/png": "[encoded data removed]"
          }
        }
      ],
      "source": [
        "#| label: samhsa\n",
        "#| out-align: center\n",
        "\n",
        "tx_summary <- d |> \n",
        "  filter(!age %in% c(\"12-13\", \"14-15\", \"16-17\")) |> \n",
        "  mutate(`Past year AUD` = \"yes\") |> \n",
        "  rename(`Receieved any treatment` = aud_tx_clinician_past_year) |>\n",
        "  pivot_longer(cols = c(`Past year AUD`, `Receieved any treatment`)) |> \n",
        "  mutate(name = factor(name),\n",
        "         value = if_else(value == \"yes\", 1, 0)) |> \n",
        "  group_by(name) |> \n",
        "  summarize(value = sum(value), \n",
        "            proportion = value/nrow(subset(d, !age %in% c(\"12-13\", \"14-15\", \"16-17\"))), \n",
        "            .groups = \"drop\") |> \n",
        "  mutate(label = c(\"28 Million\", \"3.4 Million\"))\n",
        "\n",
        "unknown <- tibble(name = \"Continuing care\", \n",
        "                   value = pull(subset(tx_summary, name == \"Receieved any treatment\"), value),\n",
        "                   proportion = pull(subset(tx_summary, name == \"Receieved any treatment\"), proportion),\n",
        "            label = \"?\")\n",
        "\n",
        "tx_summary |>\n",
        "  ggplot(aes(x = name, y = proportion)) +\n",
        "  geom_bar(stat = \"identity\", \n",
        "           fill = \"grey\",\n",
        "           color = \"black\",\n",
        "           linewidth = .7) +\n",
        "  geom_bar(data = unknown,\n",
        "           aes(x = name, y = proportion), \n",
        "           fill = \"white\", color = \"black\", \n",
        "           stat = \"identity\", \n",
        "           linetype = \"dashed\",\n",
        "           linewidth = .7) +\n",
        "  geom_text(aes(label = label), \n",
        "            vjust = -0.5,               \n",
        "            color = \"black\",\n",
        "            size = 5) +\n",
        "  geom_text(data = unknown,\n",
        "            aes(label = label), \n",
        "            vjust = -0.5,               \n",
        "            color = \"black\",\n",
        "            size = 5) +\n",
        "  labs(x = NULL,\n",
        "       y = NULL) +\n",
        "  scale_y_continuous(limits = c(0, 1), labels = scales::percent_format()) +\n",
        "  theme(axis.text = element_text(size = 14),        \n",
        "        axis.title = element_text(size = 16),       \n",
        "        axis.line = element_line(linewidth = .7))  "
      ],
      "id": "da587a0e-8fc5-4a69-8530-045ffd2bff00"
    }
  ],
  "nbformat": 4,
  "nbformat_minor": 5,
  "metadata": {
    "kernelspec": {
      "display_name": "Python 3",
      "language": "python",
      "name": "python3"
    }
  }
}