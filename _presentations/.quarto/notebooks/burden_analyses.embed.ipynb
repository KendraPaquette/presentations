{
  "cells": [
    {
      "cell_type": "markdown",
      "metadata": {},
      "source": [
        "# EMA Analyses\n",
        "\n",
        "Kendra Wyant"
      ],
      "id": "ca9e7da9-806f-4ebf-9942-63ae5eab5824"
    },
    {
      "cell_type": "code",
      "execution_count": null,
      "metadata": {},
      "outputs": [
        {
          "output_type": "stream",
          "name": "stderr",
          "text": [
            "── Attaching core tidyverse packages ──────────────────────── tidyverse 2.0.0 ──\n",
            "✔ dplyr     1.1.4     ✔ readr     2.1.5\n",
            "✔ forcats   1.0.0     ✔ stringr   1.5.1\n",
            "✔ ggplot2   3.5.1     ✔ tibble    3.2.1\n",
            "✔ lubridate 1.9.3     ✔ tidyr     1.3.1\n",
            "✔ purrr     1.0.2     \n",
            "── Conflicts ────────────────────────────────────────── tidyverse_conflicts() ──\n",
            "✖ dplyr::filter() masks stats::filter()\n",
            "✖ dplyr::lag()    masks stats::lag()\n",
            "ℹ Use the conflicted package (<http://conflicted.r-lib.org/>) to force all conflicts to become errors"
          ]
        },
        {
          "output_type": "stream",
          "name": "stderr",
          "text": [
            "── Attaching packages ────────────────────────────────────── tidymodels 1.2.0 ──\n",
            "✔ broom        1.0.6     ✔ rsample      1.2.1\n",
            "✔ dials        1.3.0     ✔ tune         1.2.1\n",
            "✔ infer        1.0.7     ✔ workflows    1.1.4\n",
            "✔ modeldata    1.4.0     ✔ workflowsets 1.1.0\n",
            "✔ parsnip      1.2.1     ✔ yardstick    1.3.1\n",
            "✔ recipes      1.1.0     \n",
            "── Conflicts ───────────────────────────────────────── tidymodels_conflicts() ──\n",
            "✖ scales::discard() masks purrr::discard()\n",
            "✖ dplyr::filter()   masks stats::filter()\n",
            "✖ recipes::fixed()  masks stringr::fixed()\n",
            "✖ dplyr::lag()      masks stats::lag()\n",
            "✖ yardstick::spec() masks readr::spec()\n",
            "✖ recipes::step()   masks stats::step()\n",
            "• Use suppressPackageStartupMessages() to eliminate package startup messages"
          ]
        },
        {
          "output_type": "stream",
          "name": "stderr",
          "text": [
            "ℹ SHA-1 hash of file is \"7b16d5bd2edc7abd5bbd964da4a3705d50646b68\""
          ]
        }
      ],
      "source": [
        "#|echo: FALSE\n",
        "\n",
        "library(tidyverse)"
      ],
      "id": "700b4dc5-21e8-4aec-b20c-82345dd149a7"
    },
    {
      "cell_type": "markdown",
      "metadata": {},
      "source": [
        "### Compliance"
      ],
      "id": "98623984-c179-4918-8802-40001e0d8a67"
    },
    {
      "cell_type": "code",
      "execution_count": null,
      "metadata": {},
      "outputs": [],
      "source": [
        "path_shared <- \"/Volumes/private/studydata/risk/data_processed/shared\"\n",
        "path_ema<- \"/Volumes/private/studydata/risk/data_processed/ema\"\n",
        "\n",
        "\n",
        "visit_dates <- read_csv(file.path(path_shared, \"visit_dates.csv\"), col_types = cols())\n",
        "ema_m <- vroom::vroom(file.path(path_shared, \"ema_morning.csv\"), col_types = vroom::cols()) %>% \n",
        "  mutate(start_date = with_tz(start_date, tzone = \"America/Chicago\"),\n",
        "         subid = as.numeric(subid))\n",
        "ema_l <- vroom::vroom(file.path(path_shared, \"ema_later.csv\"), col_types = vroom::cols()) %>% \n",
        "  mutate(start_date = with_tz(start_date, tzone = \"America/Chicago\"),\n",
        "         subid = as.numeric(subid))"
      ],
      "id": "f1303a3f-2dcf-4b61-92f2-267180d9aba7"
    },
    {
      "cell_type": "code",
      "execution_count": null,
      "metadata": {},
      "outputs": [],
      "source": [
        "disposition <- read_csv(file.path(path_ema, \"disposition.csv\"), col_types = cols())\n",
        "\n",
        "# function to map over\n",
        "get_study_days <- function(the_subid, dates) {\n",
        "  start_study <- dates %>% filter(subid == the_subid) %>% pull(start_study)\n",
        "  end_study <- dates %>% filter(subid == the_subid) %>% pull(end_study)\n",
        "  study_days <- tibble(subid = the_subid, study_day = seq(start_study, end_study - days(1), by = \"day\")) \n",
        "  return(study_days)\n",
        "}\n",
        "\n",
        "sample <- disposition %>% \n",
        "  filter(analysis == \"yes\")\n",
        "\n",
        "subids <- sample$subid\n",
        "dates <- sample %>% \n",
        "  select(subid, start_study, end_study)\n",
        "\n",
        "study_dates <- subids %>% \n",
        "  map_dfr(~get_study_days(.x, dates))"
      ],
      "id": "93dbf131-01fc-492a-b4c3-06554099ce49"
    },
    {
      "cell_type": "code",
      "execution_count": null,
      "metadata": {},
      "outputs": [],
      "source": [
        "ema <- ema_m |> \n",
        "  select(subid, start_date) |> \n",
        "  full_join(ema_l |> select(subid, start_date), by = c(\"subid\", \"start_date\")) |> \n",
        "  mutate(start_date = date(start_date)) |> \n",
        "  filter(subid %in% subids)\n",
        "\n",
        "# count EMAs per day\n",
        "ema_count_4x <- ema |>  \n",
        "  count(subid, start_date) |>\n",
        "  mutate(n = if_else(n > 4, 4, as.numeric(n)))\n",
        "\n",
        "# left join with study dates\n",
        "ema_study_dates <- study_dates |>\n",
        "  left_join(ema_count_4x, by = c(\"subid\", \"study_day\" = \"start_date\")) |> \n",
        "  mutate(n = if_else(is.na(n), 0, n)) |> \n",
        "  mutate(n_prompts = 4)\n",
        "\n",
        "# slice into 7 day bins\n",
        "ema_study_weeks <- ema_study_dates |> \n",
        "  group_by(subid) |> \n",
        "  slice(1:7) |> \n",
        "  mutate(week = 1) |> \n",
        "  bind_rows(ema_study_dates |> \n",
        "    group_by(subid) |> \n",
        "    slice(8:14) |> \n",
        "    mutate(week = 2)) |> \n",
        "  bind_rows(ema_study_dates |> \n",
        "    group_by(subid) |> \n",
        "    slice(15:21) |> \n",
        "    mutate(week = 3)) |> \n",
        "  bind_rows(ema_study_dates |> \n",
        "    group_by(subid) |> \n",
        "    slice(22:28) |> \n",
        "    mutate(week = 4)) |> \n",
        "  bind_rows(ema_study_dates |> \n",
        "    group_by(subid) |> \n",
        "    slice(29:35) |> \n",
        "    mutate(week = 5)) |> \n",
        "  bind_rows(ema_study_dates |> \n",
        "    group_by(subid) |> \n",
        "    slice(36:42) |> \n",
        "    mutate(week = 6)) |> \n",
        "  bind_rows(ema_study_dates |> \n",
        "    group_by(subid) |> \n",
        "    slice(43:49) |> \n",
        "    mutate(week = 7)) |> \n",
        "  bind_rows(ema_study_dates |> \n",
        "    group_by(subid) |> \n",
        "    slice(50:56) |> \n",
        "    mutate(week = 8)) |> \n",
        "  bind_rows(ema_study_dates |> \n",
        "    group_by(subid) |> \n",
        "    slice(57:63) |> \n",
        "    mutate(week = 9)) |> \n",
        "  bind_rows(ema_study_dates |> \n",
        "    group_by(subid) |> \n",
        "    slice(64:70) |> \n",
        "    mutate(week = 10)) |> \n",
        "  bind_rows(ema_study_dates |> \n",
        "    group_by(subid) |> \n",
        "    slice(71:77) |> \n",
        "    mutate(week = 11)) |> \n",
        "  bind_rows(ema_study_dates |> \n",
        "    group_by(subid) |> \n",
        "    slice(78:84) |> \n",
        "    mutate(week = 12)) |> \n",
        "  ungroup()\n",
        "\n",
        "ema_week_compliance_4x <- ema_study_weeks |> \n",
        "  group_by(subid, week) |> \n",
        "  summarize(sum_n = sum(n), sum_prompts = sum(n_prompts), .groups = \"rowwise\") |> \n",
        "  mutate(compliance = sum_n/sum_prompts) |> \n",
        "  ungroup()\n",
        "\n",
        "ema_week_compliance_1x <- ema_study_weeks |>\n",
        "  mutate(n = if_else(n > 1, 1, n),\n",
        "         n_prompts = 1) |> \n",
        "  group_by(subid, week) |> \n",
        "  summarize(sum_n = sum(n), sum_prompts = sum(n_prompts), .groups = \"rowwise\") |> \n",
        "  mutate(compliance = sum_n/sum_prompts) |> \n",
        "  ungroup()\n",
        "\n",
        "week_compliance_all <- ema_week_compliance_4x |> \n",
        "              mutate(compliance = compliance*100) |> \n",
        "              group_by(week) |> \n",
        "              summarize(mean_compliance = mean(compliance),\n",
        "                        n = n(),\n",
        "                        sd = sd(compliance)) |> \n",
        "              mutate(se = sd/sqrt(n),\n",
        "                     signal = \"4x Daily\") |> \n",
        "  bind_rows(ema_week_compliance_1x |> \n",
        "              mutate(compliance = compliance*100) |> \n",
        "              group_by(week) |> \n",
        "              summarize(mean_compliance = mean(compliance),\n",
        "                        n = n(),\n",
        "                        sd = sd(compliance)) |> \n",
        "              mutate(se = sd/sqrt(n),\n",
        "                     signal = \"1x Daily\")) "
      ],
      "id": "4ef72f88-63b6-4ed1-9059-331ce431aaa4"
    },
    {
      "cell_type": "code",
      "execution_count": null,
      "metadata": {},
      "outputs": [
        {
          "output_type": "display_data",
          "metadata": {},
          "data": {
            "image/png": "[encoded data removed]"
          }
        }
      ],
      "source": [
        "#| label: compliance\n",
        "#| out-height: 8in\n",
        "\n",
        "week_compliance_all |> \n",
        "  group_by(week, signal) |> \n",
        "  ggplot(aes(x = week, y = mean_compliance, group = signal, color = signal, fill = signal)) +\n",
        "  geom_line() +\n",
        "  geom_ribbon(aes(ymin = mean_compliance - se, ymax = mean_compliance + se), alpha = .4) +\n",
        "  theme_classic() +\n",
        "  scale_color_manual(values = c(\"#263238\", \"#c5050c\")) +\n",
        "  scale_fill_manual(values = c(\"#b0bec5\", \"#ef9a9a\")) +\n",
        "  scale_x_continuous(name = \"Week\", \n",
        "                     breaks = seq(1, 12, 1)) +\n",
        "  scale_y_continuous(name = \"Completion percentage\", \n",
        "                     breaks = seq(0, 100, 10), \n",
        "                     limits = c(0, 100)) +\n",
        "  geom_hline(aes(yintercept = mean_compliance, color = signal), week_compliance_all |> \n",
        "               group_by(signal) |> \n",
        "               summarize(mean_compliance = mean(mean_compliance)),\n",
        "             linetype = \"dashed\", linewidth = .3) +\n",
        "  theme(legend.title = element_blank(),\n",
        "        legend.position = \"bottom\",\n",
        "        text = element_text(size = 20))"
      ],
      "id": "b90b10e8-81e4-4dad-b833-43dd78c7aed4"
    },
    {
      "cell_type": "raw",
      "metadata": {
        "raw_mimetype": "text/html"
      },
      "source": [
        "<!-- ### Acceptability Figures -->"
      ],
      "id": "9cde5fe6-7201-43b9-9fa8-95b52701d1ab"
    },
    {
      "cell_type": "raw",
      "metadata": {
        "raw_mimetype": "text/html"
      },
      "source": [
        "<!-- ```{r} -->"
      ],
      "id": "94dc3428-0408-4b80-8141-b42c4e929ea2"
    },
    {
      "cell_type": "raw",
      "metadata": {
        "raw_mimetype": "text/html"
      },
      "source": [
        "<!-- path_burden <- \"P:/studydata/risk/data_processed/burden\" -->"
      ],
      "id": "eadfc8c4-89e3-400e-8881-6ab5f1657b98"
    },
    {
      "cell_type": "raw",
      "metadata": {
        "raw_mimetype": "text/html"
      },
      "source": [
        "<!-- ``` -->"
      ],
      "id": "6fe32471-4f2d-4186-8713-ca6f71768bfb"
    },
    {
      "cell_type": "raw",
      "metadata": {
        "raw_mimetype": "text/html"
      },
      "source": [
        "<!-- ```{r} -->"
      ],
      "id": "ccdc1ebe-3c67-4d53-a27d-7ef7fe45c65d"
    },
    {
      "cell_type": "raw",
      "metadata": {
        "raw_mimetype": "text/html"
      },
      "source": [
        "<!-- data <- read_csv(file.path(path_burden, \"acceptability.csv\"), col_types = cols()) %>%  -->"
      ],
      "id": "c97b702a-0376-48e1-ac22-e1541019072f"
    },
    {
      "cell_type": "raw",
      "metadata": {
        "raw_mimetype": "text/html"
      },
      "source": [
        "<!--   # wristband will be analyzed in supplemental - not enough observations -->"
      ],
      "id": "1232a47b-9cd9-4da0-8e14-ce6d1a4938dd"
    },
    {
      "cell_type": "raw",
      "metadata": {
        "raw_mimetype": "text/html"
      },
      "source": [
        "<!--   select(-contains(\"wristband\")) -->"
      ],
      "id": "331f1b27-0591-4212-b696-f2909ebd6f40"
    },
    {
      "cell_type": "raw",
      "metadata": {
        "raw_mimetype": "text/html"
      },
      "source": [
        "<!-- ``` -->"
      ],
      "id": "7e59b5b9-2462-4692-a914-00f30c884462"
    },
    {
      "cell_type": "raw",
      "metadata": {
        "raw_mimetype": "text/html"
      },
      "source": [
        "<!-- Pull out last observation for each participant -->"
      ],
      "id": "9b1bbba8-a1d8-4768-b1ec-92e05f75a5d9"
    },
    {
      "cell_type": "raw",
      "metadata": {
        "raw_mimetype": "text/html"
      },
      "source": [
        "<!-- ```{r} -->"
      ],
      "id": "1623b1ef-21b7-4578-a233-62121d2859b4"
    },
    {
      "cell_type": "raw",
      "metadata": {
        "raw_mimetype": "text/html"
      },
      "source": [
        "<!-- # pull out last available sleep monitor data since this date will be earlier than last  -->"
      ],
      "id": "3be67a75-5d4b-457c-85e0-2447663f07d3"
    },
    {
      "cell_type": "raw",
      "metadata": {
        "raw_mimetype": "text/html"
      },
      "source": [
        "<!-- # survey date for some due to discontinuation of monitor -->"
      ],
      "id": "bf033023-93eb-4693-be17-40c0605b620d"
    },
    {
      "cell_type": "raw",
      "metadata": {
        "raw_mimetype": "text/html"
      },
      "source": [
        "<!-- data_sleep <- data %>%  -->"
      ],
      "id": "b8187cd8-691f-4b96-b132-6ead555b69fa"
    },
    {
      "cell_type": "raw",
      "metadata": {
        "raw_mimetype": "text/html"
      },
      "source": [
        "<!--   filter(!is.na(sleep_interfere)) %>%  -->"
      ],
      "id": "58ceb9f9-d574-4179-9533-978edcb0e76e"
    },
    {
      "cell_type": "raw",
      "metadata": {
        "raw_mimetype": "text/html"
      },
      "source": [
        "<!--   group_by(subid) %>%  -->"
      ],
      "id": "d0ced249-ae4a-4f9a-865d-5acf4692eeb9"
    },
    {
      "cell_type": "raw",
      "metadata": {
        "raw_mimetype": "text/html"
      },
      "source": [
        "<!--   arrange(desc(date)) %>%  -->"
      ],
      "id": "5ca1f6e4-c5d2-451e-bc4f-977b59cb4fec"
    },
    {
      "cell_type": "raw",
      "metadata": {
        "raw_mimetype": "text/html"
      },
      "source": [
        "<!--   slice(1) %>%  -->"
      ],
      "id": "b7b16f7c-2e7f-40fe-b8d5-ad2065c49e78"
    },
    {
      "cell_type": "raw",
      "metadata": {
        "raw_mimetype": "text/html"
      },
      "source": [
        "<!--   ungroup() %>%  -->"
      ],
      "id": "351323ed-0e07-4dd7-81c2-eff6e3ad50ea"
    },
    {
      "cell_type": "raw",
      "metadata": {
        "raw_mimetype": "text/html"
      },
      "source": [
        "<!--   select(c(subid, starts_with(\"sleep_\"))) -->"
      ],
      "id": "88e058e3-6a15-4046-a995-eb9c5e50e25c"
    },
    {
      "cell_type": "raw",
      "metadata": {
        "raw_mimetype": "text/html"
      },
      "source": [
        "<!-- # pull out most recent survey for each subid -->"
      ],
      "id": "da8d5774-7af2-4133-aaef-b1c84b697053"
    },
    {
      "cell_type": "raw",
      "metadata": {
        "raw_mimetype": "text/html"
      },
      "source": [
        "<!-- data_last <- data %>%  -->"
      ],
      "id": "48ceee8e-ab60-41fd-861a-5087630c8506"
    },
    {
      "cell_type": "raw",
      "metadata": {
        "raw_mimetype": "text/html"
      },
      "source": [
        "<!--   select(-c(starts_with(\"sleep_\"))) %>%  -->"
      ],
      "id": "ad9df88d-5f8f-440b-9191-bd2939cf9a8a"
    },
    {
      "cell_type": "raw",
      "metadata": {
        "raw_mimetype": "text/html"
      },
      "source": [
        "<!--   group_by(subid) %>%  -->"
      ],
      "id": "f3dce41a-bcfd-4c15-9aff-54540deb800f"
    },
    {
      "cell_type": "raw",
      "metadata": {
        "raw_mimetype": "text/html"
      },
      "source": [
        "<!--   arrange(desc(date)) %>%  -->"
      ],
      "id": "8919b8a2-85e5-420b-9435-60145279d18e"
    },
    {
      "cell_type": "raw",
      "metadata": {
        "raw_mimetype": "text/html"
      },
      "source": [
        "<!--   slice(1) %>%  -->"
      ],
      "id": "adfe6ce6-2ed9-4032-9359-030646965902"
    },
    {
      "cell_type": "raw",
      "metadata": {
        "raw_mimetype": "text/html"
      },
      "source": [
        "<!--   ungroup() %>%  -->"
      ],
      "id": "8d49f993-aa22-4f87-9178-2ff91ffd9361"
    },
    {
      "cell_type": "raw",
      "metadata": {
        "raw_mimetype": "text/html"
      },
      "source": [
        "<!--   # join with sleep data -->"
      ],
      "id": "8e318c02-443b-4470-9692-ccbaf3fc9397"
    },
    {
      "cell_type": "raw",
      "metadata": {
        "raw_mimetype": "text/html"
      },
      "source": [
        "<!--   full_join(data_sleep, by = c(\"subid\")) %>%  -->"
      ],
      "id": "781c4132-0210-4c7e-a90e-22267d2169a7"
    },
    {
      "cell_type": "raw",
      "metadata": {
        "raw_mimetype": "text/html"
      },
      "source": [
        "<!--   glimpse() -->"
      ],
      "id": "d105272f-7dd1-4ce6-a831-0507d0a360c3"
    },
    {
      "cell_type": "raw",
      "metadata": {
        "raw_mimetype": "text/html"
      },
      "source": [
        "<!-- ``` -->"
      ],
      "id": "2001e316-73a8-4017-9348-64f00aebf736"
    },
    {
      "cell_type": "raw",
      "metadata": {
        "raw_mimetype": "text/html"
      },
      "source": [
        "<!-- ema -->"
      ],
      "id": "17333554-06c0-49a5-a416-172d705418d0"
    },
    {
      "cell_type": "raw",
      "metadata": {
        "raw_mimetype": "text/html"
      },
      "source": [
        "<!-- ```{r} -->"
      ],
      "id": "3cc570a7-c3c5-49f4-8f26-b79e54e7a156"
    },
    {
      "cell_type": "raw",
      "metadata": {
        "raw_mimetype": "text/html"
      },
      "source": [
        "<!-- plot_1 <- data_last |>  -->"
      ],
      "id": "22f1ef9e-0469-4cc4-8597-f6e6d4127585"
    },
    {
      "cell_type": "raw",
      "metadata": {
        "raw_mimetype": "text/html"
      },
      "source": [
        "<!--   select(Interference = daily_survey_interfere, -->"
      ],
      "id": "b32d4691-de53-4cf1-9678-fae1cf6e6f44"
    },
    {
      "cell_type": "raw",
      "metadata": {
        "raw_mimetype": "text/html"
      },
      "source": [
        "<!--          Dislike = daily_survey_dislike) |>  -->"
      ],
      "id": "8efd9321-ac60-4a48-a2c3-c442542b0e2b"
    },
    {
      "cell_type": "raw",
      "metadata": {
        "raw_mimetype": "text/html"
      },
      "source": [
        "<!--   pivot_longer(everything(), names_to = \"measure\") |>  -->"
      ],
      "id": "8ba7b6a6-6dca-45f3-8f15-ef26cc87ec5a"
    },
    {
      "cell_type": "raw",
      "metadata": {
        "raw_mimetype": "text/html"
      },
      "source": [
        "<!--   mutate(measure = factor(measure,  -->"
      ],
      "id": "e9bd7b2c-2c1d-4ca3-b79e-b0b49a4396e7"
    },
    {
      "cell_type": "raw",
      "metadata": {
        "raw_mimetype": "text/html"
      },
      "source": [
        "<!--                           levels = c(\"Interference\", \"Dislike\")), -->"
      ],
      "id": "07b129e6-b12a-4a55-8ef0-2cd22883de4a"
    },
    {
      "cell_type": "raw",
      "metadata": {
        "raw_mimetype": "text/html"
      },
      "source": [
        "<!--          value = factor(value, levels = c(-2:2),  -->"
      ],
      "id": "c0529a70-151c-4f01-a37f-b9364aa2e077"
    },
    {
      "cell_type": "raw",
      "metadata": {
        "raw_mimetype": "text/html"
      },
      "source": [
        "<!--                         labels = c(\"Strongly agree\", \"Agree\", \"Undecided\", \"Disagree\", \"Strongly disagree\"))) |>  -->"
      ],
      "id": "46ef9300-6e6a-4430-9451-cc4f114cc70c"
    },
    {
      "cell_type": "raw",
      "metadata": {
        "raw_mimetype": "text/html"
      },
      "source": [
        "<!--   ggplot(aes(x = value, y = ..prop.., group = measure, color = measure, fill = measure)) + -->"
      ],
      "id": "3e74e696-fd02-4233-a649-aed650f0e761"
    },
    {
      "cell_type": "raw",
      "metadata": {
        "raw_mimetype": "text/html"
      },
      "source": [
        "<!--   geom_bar() + -->"
      ],
      "id": "7251cca5-2a97-4155-8c93-8fead6fc8a42"
    },
    {
      "cell_type": "raw",
      "metadata": {
        "raw_mimetype": "text/html"
      },
      "source": [
        "<!--   scale_color_manual(values = c(\"#0B5345\", \"#0B5345\")) + -->"
      ],
      "id": "2cc236df-6560-4e5d-8fae-b34937581354"
    },
    {
      "cell_type": "raw",
      "metadata": {
        "raw_mimetype": "text/html"
      },
      "source": [
        "<!--   scale_fill_manual(values = c(\"#A2D9CE\", \"#A2D9CE\")) + -->"
      ],
      "id": "a5c9a83b-5673-45fb-9aa4-65a79dacc068"
    },
    {
      "cell_type": "raw",
      "metadata": {
        "raw_mimetype": "text/html"
      },
      "source": [
        "<!--   facet_grid(~measure) + -->"
      ],
      "id": "9da5207a-7ce2-44e0-b045-2cec11bf33ce"
    },
    {
      "cell_type": "raw",
      "metadata": {
        "raw_mimetype": "text/html"
      },
      "source": [
        "<!--   theme_classic() + -->"
      ],
      "id": "4d1e98b0-0324-49b1-9ea9-c1552e0d60b0"
    },
    {
      "cell_type": "raw",
      "metadata": {
        "raw_mimetype": "text/html"
      },
      "source": [
        "<!--   labs(y = \"Proportion\", -->"
      ],
      "id": "e3c5f5d3-e803-4978-b9f6-5c0ab8d4cd42"
    },
    {
      "cell_type": "raw",
      "metadata": {
        "raw_mimetype": "text/html"
      },
      "source": [
        "<!--        x = NULL) + -->"
      ],
      "id": "f4d03ea0-3445-48bb-9cae-5d09f7c7efea"
    },
    {
      "cell_type": "raw",
      "metadata": {
        "raw_mimetype": "text/html"
      },
      "source": [
        "<!--   theme(legend.position = \"none\", -->"
      ],
      "id": "3a8fcc9c-6e5d-48ff-b66c-1d929c772fa3"
    },
    {
      "cell_type": "raw",
      "metadata": {
        "raw_mimetype": "text/html"
      },
      "source": [
        "<!--         text = element_text(size = 12), -->"
      ],
      "id": "72e0edc5-856f-480f-a064-f12f85fde346"
    },
    {
      "cell_type": "raw",
      "metadata": {
        "raw_mimetype": "text/html"
      },
      "source": [
        "<!--         axis.text.x = element_text(angle = 45, hjust = 1)) + -->"
      ],
      "id": "659b4d9b-9606-42c3-9560-48c0c954d866"
    },
    {
      "cell_type": "raw",
      "metadata": {
        "raw_mimetype": "text/html"
      },
      "source": [
        "<!--   ylim(0, .6) + -->"
      ],
      "id": "4f8d2d04-8c76-4a00-b123-edd4af7fc071"
    },
    {
      "cell_type": "raw",
      "metadata": {
        "raw_mimetype": "text/html"
      },
      "source": [
        "<!--   geom_vline(aes(xintercept = \"Undecided\"), linetype = \"dashed\", size = .4, color = \"black\") + -->"
      ],
      "id": "96faaec6-44f9-44a0-9327-365ca7c30bec"
    },
    {
      "cell_type": "raw",
      "metadata": {
        "raw_mimetype": "text/html"
      },
      "source": [
        "<!--   geom_vline(aes(xintercept = means, color = measure), data_last |>  -->"
      ],
      "id": "33b45bdd-f9b4-4aba-b364-f9066cd04386"
    },
    {
      "cell_type": "raw",
      "metadata": {
        "raw_mimetype": "text/html"
      },
      "source": [
        "<!--   select(Interference = daily_survey_interfere, -->"
      ],
      "id": "49aed54f-f87b-49c5-8959-3e2efb3dd9c3"
    },
    {
      "cell_type": "raw",
      "metadata": {
        "raw_mimetype": "text/html"
      },
      "source": [
        "<!--          Dislike = daily_survey_dislike) |>  -->"
      ],
      "id": "e8490217-4e13-4e1f-ad0e-ed9de05d7d7a"
    },
    {
      "cell_type": "raw",
      "metadata": {
        "raw_mimetype": "text/html"
      },
      "source": [
        "<!--   pivot_longer(everything(), names_to = \"measure\") |>  -->"
      ],
      "id": "d9db3f61-22dd-4d67-968d-be4a810bb067"
    },
    {
      "cell_type": "raw",
      "metadata": {
        "raw_mimetype": "text/html"
      },
      "source": [
        "<!--   mutate(measure = factor(measure,  -->"
      ],
      "id": "24cab927-8b10-471b-9a11-bd283582112d"
    },
    {
      "cell_type": "raw",
      "metadata": {
        "raw_mimetype": "text/html"
      },
      "source": [
        "<!--                           levels = c(\"Interference\", \"Dislike\")), -->"
      ],
      "id": "bef7e490-862d-454e-81e5-b75fda34d4e8"
    },
    {
      "cell_type": "raw",
      "metadata": {
        "raw_mimetype": "text/html"
      },
      "source": [
        "<!--          value = factor(value, levels = c(-2:2),  -->"
      ],
      "id": "3921060a-5746-4561-8e12-638354676dd0"
    },
    {
      "cell_type": "raw",
      "metadata": {
        "raw_mimetype": "text/html"
      },
      "source": [
        "<!--                         labels = c(\"Strongly agree\", \"Agree\", \"Undecided\", \"Disagree\", \"Strongly disagree\"))) |>  -->"
      ],
      "id": "5ba519d1-98c1-4333-bc93-c65c87c2aa21"
    },
    {
      "cell_type": "raw",
      "metadata": {
        "raw_mimetype": "text/html"
      },
      "source": [
        "<!--   group_by(measure) |>  -->"
      ],
      "id": "6bd3d76a-1d28-473a-b1ac-a45017a34561"
    },
    {
      "cell_type": "raw",
      "metadata": {
        "raw_mimetype": "text/html"
      },
      "source": [
        "<!--   summarise(means = mean(as.numeric(value), na.rm = TRUE)), size = .705)  -->"
      ],
      "id": "3998024a-52d7-47c4-b4f8-d8be06094bf5"
    },
    {
      "cell_type": "raw",
      "metadata": {
        "raw_mimetype": "text/html"
      },
      "source": [
        "<!-- # plot_2 <- data_last |> -->"
      ],
      "id": "7f79972d-7e60-4694-b19e-32390c718d49"
    },
    {
      "cell_type": "raw",
      "metadata": {
        "raw_mimetype": "text/html"
      },
      "source": [
        "<!-- #   select(`Willingness (4x)`= daily_survey_4_1year, -->"
      ],
      "id": "68a0e101-5c5f-4b86-a76e-bfb110b246b7"
    },
    {
      "cell_type": "raw",
      "metadata": {
        "raw_mimetype": "text/html"
      },
      "source": [
        "<!-- #          `Willingness (1x)`= daily_survey_1_1year) |> -->"
      ],
      "id": "88b76099-f814-453e-ae66-1144327cf043"
    },
    {
      "cell_type": "raw",
      "metadata": {
        "raw_mimetype": "text/html"
      },
      "source": [
        "<!-- #   pivot_longer(everything(), names_to = \"measure\") |> -->"
      ],
      "id": "9b907f17-030e-4cb6-a689-5860ddf2ac34"
    },
    {
      "cell_type": "raw",
      "metadata": {
        "raw_mimetype": "text/html"
      },
      "source": [
        "<!-- #   mutate(measure = factor(measure, -->"
      ],
      "id": "23343279-e52c-43ec-87ca-fd9263e5d00b"
    },
    {
      "cell_type": "raw",
      "metadata": {
        "raw_mimetype": "text/html"
      },
      "source": [
        "<!-- #                           levels = c(\"Willingness (4x)\", \"Willingness (1x)\")), -->"
      ],
      "id": "b50d1462-2520-460c-880e-6a284e9ff903"
    },
    {
      "cell_type": "raw",
      "metadata": {
        "raw_mimetype": "text/html"
      },
      "source": [
        "<!-- #          value = factor(value, levels = c(-2:2), -->"
      ],
      "id": "6f311867-88b1-4625-a72c-e0b2e9069599"
    },
    {
      "cell_type": "raw",
      "metadata": {
        "raw_mimetype": "text/html"
      },
      "source": [
        "<!-- #                         labels = c(\"Strongly disagree\", \"Disagree\", \"Undecided\", \"Agree\", \"Strongly Agree\"))) |> -->"
      ],
      "id": "d8b0c503-2abb-45d0-a293-289c0e789a08"
    },
    {
      "cell_type": "raw",
      "metadata": {
        "raw_mimetype": "text/html"
      },
      "source": [
        "<!-- #   ggplot(aes(x = value, y = ..prop.., group = measure, color = measure, fill = measure)) + -->"
      ],
      "id": "a135a352-7edb-4bdd-a49e-a459d1252f14"
    },
    {
      "cell_type": "raw",
      "metadata": {
        "raw_mimetype": "text/html"
      },
      "source": [
        "<!-- #   geom_bar() + -->"
      ],
      "id": "d3887681-e0a8-43d5-a18d-00e8aafcca9d"
    },
    {
      "cell_type": "raw",
      "metadata": {
        "raw_mimetype": "text/html"
      },
      "source": [
        "<!-- #   scale_color_manual(values = c(\"#0B5345\", \"#4A235A\")) + -->"
      ],
      "id": "c3851c10-2f6e-4949-9340-cd19c6ecf758"
    },
    {
      "cell_type": "raw",
      "metadata": {
        "raw_mimetype": "text/html"
      },
      "source": [
        "<!-- #   scale_fill_manual(values = c(\"#A2D9CE\", \"#D7BDE2\")) + -->"
      ],
      "id": "3763373b-455b-452c-99bd-9474da4eadaa"
    },
    {
      "cell_type": "raw",
      "metadata": {
        "raw_mimetype": "text/html"
      },
      "source": [
        "<!-- #   facet_grid(~measure) + -->"
      ],
      "id": "f2c73a4d-c841-4400-b26b-364b3b20a4a1"
    },
    {
      "cell_type": "raw",
      "metadata": {
        "raw_mimetype": "text/html"
      },
      "source": [
        "<!-- #   theme_classic() + -->"
      ],
      "id": "ab2eef8e-84d3-4e44-afaa-1dc4cc541a21"
    },
    {
      "cell_type": "raw",
      "metadata": {
        "raw_mimetype": "text/html"
      },
      "source": [
        "<!-- #   labs(y = \"Proportion\", -->"
      ],
      "id": "63a6b3ae-72c4-4e1b-800e-5c42ae30e5d9"
    },
    {
      "cell_type": "raw",
      "metadata": {
        "raw_mimetype": "text/html"
      },
      "source": [
        "<!-- #        x = NULL) + -->"
      ],
      "id": "e560ee66-5b3d-4364-b5ad-ce18dbe0b673"
    },
    {
      "cell_type": "raw",
      "metadata": {
        "raw_mimetype": "text/html"
      },
      "source": [
        "<!-- #   theme(legend.position = \"none\", -->"
      ],
      "id": "d57ac223-0453-49ff-a101-5355db8642ae"
    },
    {
      "cell_type": "raw",
      "metadata": {
        "raw_mimetype": "text/html"
      },
      "source": [
        "<!-- #         text = element_text(size = 12), -->"
      ],
      "id": "046070de-2cb7-4e44-b83b-bc661c0dfedc"
    },
    {
      "cell_type": "raw",
      "metadata": {
        "raw_mimetype": "text/html"
      },
      "source": [
        "<!-- #         axis.text.x = element_text(angle = 45, hjust = 1)) + -->"
      ],
      "id": "09b9ff8f-02bc-4d4f-86e8-3bce8593031e"
    },
    {
      "cell_type": "raw",
      "metadata": {
        "raw_mimetype": "text/html"
      },
      "source": [
        "<!-- #   ylim(0, .6) + -->"
      ],
      "id": "809013fa-e9b2-488e-a3c9-8eace7fc2014"
    },
    {
      "cell_type": "raw",
      "metadata": {
        "raw_mimetype": "text/html"
      },
      "source": [
        "<!-- #   geom_vline(aes(xintercept = \"Undecided\"), linetype = \"dashed\", size = .4, color = \"black\") + -->"
      ],
      "id": "52e815e0-f141-45f2-a078-445a5573ed38"
    },
    {
      "cell_type": "raw",
      "metadata": {
        "raw_mimetype": "text/html"
      },
      "source": [
        "<!-- #   geom_vline(aes(xintercept = means, color = measure), data_last |> -->"
      ],
      "id": "5af8e28b-5dfb-4213-992e-2932903eef0e"
    },
    {
      "cell_type": "raw",
      "metadata": {
        "raw_mimetype": "text/html"
      },
      "source": [
        "<!-- #   select(`Willingness (4x)` = daily_survey_4_1year, -->"
      ],
      "id": "71b02101-0401-4d11-af43-4c17a1dbf66b"
    },
    {
      "cell_type": "raw",
      "metadata": {
        "raw_mimetype": "text/html"
      },
      "source": [
        "<!-- #          `Willingness (1x)` = daily_survey_1_1year) |> -->"
      ],
      "id": "e2c26e66-66f7-4d57-951c-74b931054cd7"
    },
    {
      "cell_type": "raw",
      "metadata": {
        "raw_mimetype": "text/html"
      },
      "source": [
        "<!-- #   pivot_longer(everything(), names_to = \"measure\") |> -->"
      ],
      "id": "ccfe6bae-4576-434f-9623-4d9731468c6b"
    },
    {
      "cell_type": "raw",
      "metadata": {
        "raw_mimetype": "text/html"
      },
      "source": [
        "<!-- #   mutate(measure = factor(measure, -->"
      ],
      "id": "054458c9-c37e-442f-8bbf-a5df580e7316"
    },
    {
      "cell_type": "raw",
      "metadata": {
        "raw_mimetype": "text/html"
      },
      "source": [
        "<!-- #                           levels = c(\"Willingness (4x)\", \"Willingness (1x)\")), -->"
      ],
      "id": "97ed70d0-9e70-43c1-9435-135fa92c0bb7"
    },
    {
      "cell_type": "raw",
      "metadata": {
        "raw_mimetype": "text/html"
      },
      "source": [
        "<!-- #          value = factor(value, levels = c(-2:2), -->"
      ],
      "id": "28682c56-1358-4d9e-91f7-6d89d3f60cc6"
    },
    {
      "cell_type": "raw",
      "metadata": {
        "raw_mimetype": "text/html"
      },
      "source": [
        "<!-- #                         labels = c(\"Strongly disagree\", \"Disagree\", \"Undecided\", \"Agree\", \"Strongly Agree\"))) |> -->"
      ],
      "id": "d3fb23a1-0eee-4116-a473-d65e4c30138d"
    },
    {
      "cell_type": "raw",
      "metadata": {
        "raw_mimetype": "text/html"
      },
      "source": [
        "<!-- #   group_by(measure) |> -->"
      ],
      "id": "e04e64c2-f872-4363-a856-bd4719318370"
    },
    {
      "cell_type": "raw",
      "metadata": {
        "raw_mimetype": "text/html"
      },
      "source": [
        "<!-- #   summarise(means = mean(as.numeric(value), na.rm = TRUE)), size = .705)  + -->"
      ],
      "id": "b558e28e-bd35-446b-98eb-5c94611e8a93"
    },
    {
      "cell_type": "raw",
      "metadata": {
        "raw_mimetype": "text/html"
      },
      "source": [
        "<!-- #   theme(axis.title.y = element_blank(), -->"
      ],
      "id": "799e556a-dcf2-4495-ad94-83af1446a261"
    },
    {
      "cell_type": "raw",
      "metadata": {
        "raw_mimetype": "text/html"
      },
      "source": [
        "<!-- #         axis.line.y = element_blank(), -->"
      ],
      "id": "4add6ebf-8b7c-4159-aaba-30075a9d049a"
    },
    {
      "cell_type": "raw",
      "metadata": {
        "raw_mimetype": "text/html"
      },
      "source": [
        "<!-- #         axis.text.y = element_blank(), -->"
      ],
      "id": "314008df-ee84-419a-ae28-9225dc83a0a6"
    },
    {
      "cell_type": "raw",
      "metadata": {
        "raw_mimetype": "text/html"
      },
      "source": [
        "<!-- #         axis.ticks.y = element_blank()) -->"
      ],
      "id": "229fab24-0842-4034-809a-e40d357b27df"
    },
    {
      "cell_type": "raw",
      "metadata": {
        "raw_mimetype": "text/html"
      },
      "source": [
        "<!-- plot_2 <- data_last |> -->"
      ],
      "id": "0161df68-8e0f-4270-ab31-01aaa4bb0cb4"
    },
    {
      "cell_type": "raw",
      "metadata": {
        "raw_mimetype": "text/html"
      },
      "source": [
        "<!--   select(`Willingness`= daily_survey_4_1year,) |> -->"
      ],
      "id": "b05a51c9-8366-4002-bef5-5a9a5f048ccf"
    },
    {
      "cell_type": "raw",
      "metadata": {
        "raw_mimetype": "text/html"
      },
      "source": [
        "<!--   pivot_longer(everything(), names_to = \"measure\") |> -->"
      ],
      "id": "cc27b27d-424a-43e9-b976-7761b98f66a8"
    },
    {
      "cell_type": "raw",
      "metadata": {
        "raw_mimetype": "text/html"
      },
      "source": [
        "<!--   mutate(measure = factor(measure, -->"
      ],
      "id": "d011b8e9-38f3-4519-807f-3976f1a0b63b"
    },
    {
      "cell_type": "raw",
      "metadata": {
        "raw_mimetype": "text/html"
      },
      "source": [
        "<!--                           levels = c(\"Willingness\")), -->"
      ],
      "id": "426438ce-97df-4c9c-89e9-f58fac05b7f8"
    },
    {
      "cell_type": "raw",
      "metadata": {
        "raw_mimetype": "text/html"
      },
      "source": [
        "<!--          value = factor(value, levels = c(-2:2), -->"
      ],
      "id": "70d1d85b-2515-4683-9992-a94e61ae837f"
    },
    {
      "cell_type": "raw",
      "metadata": {
        "raw_mimetype": "text/html"
      },
      "source": [
        "<!--                         labels = c(\"Strongly disagree\", \"Disagree\", \"Undecided\", \"Agree\", \"Strongly Agree\"))) |> -->"
      ],
      "id": "960cee9c-946a-4807-a3d4-dc46815ff59b"
    },
    {
      "cell_type": "raw",
      "metadata": {
        "raw_mimetype": "text/html"
      },
      "source": [
        "<!--   ggplot(aes(x = value, y = ..prop.., group = measure, color = measure, fill = measure)) + -->"
      ],
      "id": "4b5dd268-2b9c-49ac-860b-5a467dd38175"
    },
    {
      "cell_type": "raw",
      "metadata": {
        "raw_mimetype": "text/html"
      },
      "source": [
        "<!--   geom_bar() + -->"
      ],
      "id": "d915aee1-753e-4621-b702-ae0b61cb5a11"
    },
    {
      "cell_type": "raw",
      "metadata": {
        "raw_mimetype": "text/html"
      },
      "source": [
        "<!--   scale_color_manual(values = c(\"#0B5345\")) + -->"
      ],
      "id": "4bc59e2e-9d7c-4a95-80f7-9cf03c94a6c8"
    },
    {
      "cell_type": "raw",
      "metadata": {
        "raw_mimetype": "text/html"
      },
      "source": [
        "<!--   scale_fill_manual(values = c(\"#A2D9CE\")) + -->"
      ],
      "id": "b096e3a1-1c01-41b7-8baf-45a939cd51be"
    },
    {
      "cell_type": "raw",
      "metadata": {
        "raw_mimetype": "text/html"
      },
      "source": [
        "<!--   facet_grid(~measure) + -->"
      ],
      "id": "0e85f17d-1f69-480d-bb1c-94084353d8dc"
    },
    {
      "cell_type": "raw",
      "metadata": {
        "raw_mimetype": "text/html"
      },
      "source": [
        "<!--   theme_classic() + -->"
      ],
      "id": "d42253ec-00a1-4141-9e3a-f484efd85cb4"
    },
    {
      "cell_type": "raw",
      "metadata": {
        "raw_mimetype": "text/html"
      },
      "source": [
        "<!--   labs(y = \"Proportion\", -->"
      ],
      "id": "fd0d7c75-c3e9-428c-ab3e-82e37e41e5eb"
    },
    {
      "cell_type": "raw",
      "metadata": {
        "raw_mimetype": "text/html"
      },
      "source": [
        "<!--        x = NULL) + -->"
      ],
      "id": "9cacd7b7-ba73-4996-9067-c3a7ac510b91"
    },
    {
      "cell_type": "raw",
      "metadata": {
        "raw_mimetype": "text/html"
      },
      "source": [
        "<!--   theme(legend.position = \"none\", -->"
      ],
      "id": "38952aa8-aa80-4e78-a999-2e08e6f30392"
    },
    {
      "cell_type": "raw",
      "metadata": {
        "raw_mimetype": "text/html"
      },
      "source": [
        "<!--         text = element_text(size = 12), -->"
      ],
      "id": "53ae1943-2879-4018-b598-c28e3ef8761e"
    },
    {
      "cell_type": "raw",
      "metadata": {
        "raw_mimetype": "text/html"
      },
      "source": [
        "<!--         axis.text.x = element_text(angle = 45, hjust = 1)) + -->"
      ],
      "id": "1bd0af8d-1fa0-40ef-8122-895a10cadfda"
    },
    {
      "cell_type": "raw",
      "metadata": {
        "raw_mimetype": "text/html"
      },
      "source": [
        "<!--   ylim(0, .6) + -->"
      ],
      "id": "3569e292-5a30-41be-8d6b-09fd775f1815"
    },
    {
      "cell_type": "raw",
      "metadata": {
        "raw_mimetype": "text/html"
      },
      "source": [
        "<!--   geom_vline(aes(xintercept = \"Undecided\"), linetype = \"dashed\", size = .4, color = \"black\") + -->"
      ],
      "id": "251ebf74-ecae-4dd7-a9a0-34a4c7dd3237"
    },
    {
      "cell_type": "raw",
      "metadata": {
        "raw_mimetype": "text/html"
      },
      "source": [
        "<!--   geom_vline(aes(xintercept = means, color = measure), data_last |> -->"
      ],
      "id": "8b3ec99d-6ee2-4644-a6f7-9a4190747b08"
    },
    {
      "cell_type": "raw",
      "metadata": {
        "raw_mimetype": "text/html"
      },
      "source": [
        "<!--   select(`Willingness` = daily_survey_4_1year) |> -->"
      ],
      "id": "0d158803-3c83-4db9-a022-cf883bb66cc8"
    },
    {
      "cell_type": "raw",
      "metadata": {
        "raw_mimetype": "text/html"
      },
      "source": [
        "<!--   pivot_longer(everything(), names_to = \"measure\") |> -->"
      ],
      "id": "992841df-8bac-4d05-9aa6-f0f6ab52a7b1"
    },
    {
      "cell_type": "raw",
      "metadata": {
        "raw_mimetype": "text/html"
      },
      "source": [
        "<!--   mutate(measure = factor(measure, -->"
      ],
      "id": "ec9e7534-3602-4b3d-acf6-09330c859ae8"
    },
    {
      "cell_type": "raw",
      "metadata": {
        "raw_mimetype": "text/html"
      },
      "source": [
        "<!--                           levels = c(\"Willingness\")), -->"
      ],
      "id": "376e2fdd-bce5-44e4-bba5-eb8859ceedd7"
    },
    {
      "cell_type": "raw",
      "metadata": {
        "raw_mimetype": "text/html"
      },
      "source": [
        "<!--          value = factor(value, levels = c(-2:2), -->"
      ],
      "id": "04a5a338-90f3-40f9-83f3-55e3e26bdc36"
    },
    {
      "cell_type": "raw",
      "metadata": {
        "raw_mimetype": "text/html"
      },
      "source": [
        "<!--                         labels = c(\"Strongly disagree\", \"Disagree\", \"Undecided\", \"Agree\", \"Strongly Agree\"))) |> -->"
      ],
      "id": "427bfa3f-ffff-499f-b1e8-18033e6cd70d"
    },
    {
      "cell_type": "raw",
      "metadata": {
        "raw_mimetype": "text/html"
      },
      "source": [
        "<!--   group_by(measure) |> -->"
      ],
      "id": "3b13dceb-9726-4c0b-b7c9-066d8f994f98"
    },
    {
      "cell_type": "raw",
      "metadata": {
        "raw_mimetype": "text/html"
      },
      "source": [
        "<!--   summarise(means = mean(as.numeric(value), na.rm = TRUE)), size = .705)  + -->"
      ],
      "id": "93407706-5abe-4dc2-8ff1-0f23b33bbfc0"
    },
    {
      "cell_type": "raw",
      "metadata": {
        "raw_mimetype": "text/html"
      },
      "source": [
        "<!--   theme(axis.title.y = element_blank(), -->"
      ],
      "id": "025d91d4-2156-44dc-be8e-21f3890645de"
    },
    {
      "cell_type": "raw",
      "metadata": {
        "raw_mimetype": "text/html"
      },
      "source": [
        "<!--         axis.line.y = element_blank(), -->"
      ],
      "id": "93d6a077-3a76-4445-80f9-eec548c423e7"
    },
    {
      "cell_type": "raw",
      "metadata": {
        "raw_mimetype": "text/html"
      },
      "source": [
        "<!--         axis.text.y = element_blank(), -->"
      ],
      "id": "6b14500c-7525-4be6-a9a1-1fc1dca7ec64"
    },
    {
      "cell_type": "raw",
      "metadata": {
        "raw_mimetype": "text/html"
      },
      "source": [
        "<!--         axis.ticks.y = element_blank()) -->"
      ],
      "id": "7af850ac-963a-474f-949b-035e05bf19bd"
    },
    {
      "cell_type": "raw",
      "metadata": {
        "raw_mimetype": "text/html"
      },
      "source": [
        "<!-- plot_1 + plot_2 +  -->"
      ],
      "id": "df2e636c-1cc5-40b2-95ec-31533a217bb6"
    },
    {
      "cell_type": "raw",
      "metadata": {
        "raw_mimetype": "text/html"
      },
      "source": [
        "<!--   plot_layout(width = c(1,.5)) -->"
      ],
      "id": "b55e392c-ae43-4900-ac2b-c55088788562"
    },
    {
      "cell_type": "raw",
      "metadata": {
        "raw_mimetype": "text/html"
      },
      "source": [
        "<!-- ``` -->"
      ],
      "id": "abaa2c3b-28e6-4abf-92d5-be2ec4dd0d24"
    },
    {
      "cell_type": "raw",
      "metadata": {
        "raw_mimetype": "text/html"
      },
      "source": [
        "<!-- ```{r} -->"
      ],
      "id": "f4995c85-06f5-42c5-8a09-e01f2096cfe5"
    },
    {
      "cell_type": "raw",
      "metadata": {
        "raw_mimetype": "text/html"
      },
      "source": [
        "<!-- data_last |> -->"
      ],
      "id": "c084d9ec-7f4a-4eca-a41b-c499ee969f37"
    },
    {
      "cell_type": "raw",
      "metadata": {
        "raw_mimetype": "text/html"
      },
      "source": [
        "<!--   select(`Willingness (1x EMA)`= daily_survey_1_1year,) |> -->"
      ],
      "id": "123ce523-aecf-43b4-ac84-4b1d87449ba4"
    },
    {
      "cell_type": "raw",
      "metadata": {
        "raw_mimetype": "text/html"
      },
      "source": [
        "<!--   pivot_longer(everything(), names_to = \"measure\") |> -->"
      ],
      "id": "9aeeb6d7-2075-4dc6-bcce-b8316a686cf7"
    },
    {
      "cell_type": "raw",
      "metadata": {
        "raw_mimetype": "text/html"
      },
      "source": [
        "<!--   mutate(measure = factor(measure, -->"
      ],
      "id": "cb9fcf2d-152d-46ac-8bfd-7fe107216db3"
    },
    {
      "cell_type": "raw",
      "metadata": {
        "raw_mimetype": "text/html"
      },
      "source": [
        "<!--                           levels = c(\"Willingness (1x EMA)\")), -->"
      ],
      "id": "06ba46fe-0a6d-4704-8a6d-d0e0884d7d9e"
    },
    {
      "cell_type": "raw",
      "metadata": {
        "raw_mimetype": "text/html"
      },
      "source": [
        "<!--          value = factor(value, levels = c(-2:2), -->"
      ],
      "id": "bb89565d-bb78-4d87-9484-803adca7194b"
    },
    {
      "cell_type": "raw",
      "metadata": {
        "raw_mimetype": "text/html"
      },
      "source": [
        "<!--                         labels = c(\"Strongly disagree\", \"Disagree\", \"Undecided\", \"Agree\", \"Strongly Agree\"))) |> -->"
      ],
      "id": "b080ca24-9c69-4a13-88e5-3d85dd25cff0"
    },
    {
      "cell_type": "raw",
      "metadata": {
        "raw_mimetype": "text/html"
      },
      "source": [
        "<!--   ggplot(aes(x = value, y = ..prop.., group = measure, color = measure, fill = measure)) + -->"
      ],
      "id": "af916b4c-5db9-4bba-8190-43d4414d88f6"
    },
    {
      "cell_type": "raw",
      "metadata": {
        "raw_mimetype": "text/html"
      },
      "source": [
        "<!--   geom_bar() + -->"
      ],
      "id": "0f0f0d70-8757-4205-8ac6-047c6fa5a22b"
    },
    {
      "cell_type": "raw",
      "metadata": {
        "raw_mimetype": "text/html"
      },
      "source": [
        "<!--   scale_color_manual(values = c(\"#4A235A\")) + -->"
      ],
      "id": "923c4219-ae55-4a23-915f-d879de10918f"
    },
    {
      "cell_type": "raw",
      "metadata": {
        "raw_mimetype": "text/html"
      },
      "source": [
        "<!--   scale_fill_manual(values = c(\"#D7BDE2\")) + -->"
      ],
      "id": "abc752f9-eea1-4e83-8544-afa691100bbf"
    },
    {
      "cell_type": "raw",
      "metadata": {
        "raw_mimetype": "text/html"
      },
      "source": [
        "<!--   facet_grid(~measure) + -->"
      ],
      "id": "85b24a35-7168-46f4-ba6e-7ef9cbf8d79b"
    },
    {
      "cell_type": "raw",
      "metadata": {
        "raw_mimetype": "text/html"
      },
      "source": [
        "<!--   theme_classic() + -->"
      ],
      "id": "1007cb77-581d-4f29-a45c-3da48e6b27ce"
    },
    {
      "cell_type": "raw",
      "metadata": {
        "raw_mimetype": "text/html"
      },
      "source": [
        "<!--   labs(y = \"Proportion\", -->"
      ],
      "id": "080fcde6-e39d-4364-b9f2-38b6ad1699cd"
    },
    {
      "cell_type": "raw",
      "metadata": {
        "raw_mimetype": "text/html"
      },
      "source": [
        "<!--        x = NULL) + -->"
      ],
      "id": "dcaf8d76-af8e-4b3e-bcf5-cc5eb96dcd13"
    },
    {
      "cell_type": "raw",
      "metadata": {
        "raw_mimetype": "text/html"
      },
      "source": [
        "<!--   theme(legend.position = \"none\", -->"
      ],
      "id": "36c86dd6-cbde-44a4-aa70-07486cc132e5"
    },
    {
      "cell_type": "raw",
      "metadata": {
        "raw_mimetype": "text/html"
      },
      "source": [
        "<!--         text = element_text(size = 12), -->"
      ],
      "id": "733aaae3-1acb-452c-926e-0b9d5f7b7938"
    },
    {
      "cell_type": "raw",
      "metadata": {
        "raw_mimetype": "text/html"
      },
      "source": [
        "<!--         axis.text.x = element_text(angle = 45, hjust = 1)) + -->"
      ],
      "id": "b2bab09c-e9f9-4eed-8232-5296359354d1"
    },
    {
      "cell_type": "raw",
      "metadata": {
        "raw_mimetype": "text/html"
      },
      "source": [
        "<!--   ylim(0, .6) + -->"
      ],
      "id": "8e54da38-2f91-4052-ba57-84092da17aad"
    },
    {
      "cell_type": "raw",
      "metadata": {
        "raw_mimetype": "text/html"
      },
      "source": [
        "<!--   geom_vline(aes(xintercept = \"Undecided\"), linetype = \"dashed\", size = .4, color = \"black\") + -->"
      ],
      "id": "0c81b9b8-02d7-4f17-bfb5-0aa630cbd8d0"
    },
    {
      "cell_type": "raw",
      "metadata": {
        "raw_mimetype": "text/html"
      },
      "source": [
        "<!--   geom_vline(aes(xintercept = means, color = measure), data_last |> -->"
      ],
      "id": "4204ca34-e8da-4adc-855f-b170844aa8dc"
    },
    {
      "cell_type": "raw",
      "metadata": {
        "raw_mimetype": "text/html"
      },
      "source": [
        "<!--   select(`Willingness (1x EMA)` = daily_survey_1_1year) |> -->"
      ],
      "id": "00968e5f-dd23-4725-a7d2-22bd7a077fe7"
    },
    {
      "cell_type": "raw",
      "metadata": {
        "raw_mimetype": "text/html"
      },
      "source": [
        "<!--   pivot_longer(everything(), names_to = \"measure\") |> -->"
      ],
      "id": "5137b5b5-a237-486b-b275-f252b12bbe68"
    },
    {
      "cell_type": "raw",
      "metadata": {
        "raw_mimetype": "text/html"
      },
      "source": [
        "<!--   mutate(measure = factor(measure, -->"
      ],
      "id": "32bded88-cf35-4547-9c35-b89c6f8f454e"
    },
    {
      "cell_type": "raw",
      "metadata": {
        "raw_mimetype": "text/html"
      },
      "source": [
        "<!--                           levels = c(\"Willingness (1x EMA)\")), -->"
      ],
      "id": "2ba2b927-1014-4c27-8e24-13225564619a"
    },
    {
      "cell_type": "raw",
      "metadata": {
        "raw_mimetype": "text/html"
      },
      "source": [
        "<!--          value = factor(value, levels = c(-2:2), -->"
      ],
      "id": "7c4badf5-717f-4680-876e-fe063a447660"
    },
    {
      "cell_type": "raw",
      "metadata": {
        "raw_mimetype": "text/html"
      },
      "source": [
        "<!--                         labels = c(\"Strongly disagree\", \"Disagree\", \"Undecided\", \"Agree\", \"Strongly Agree\"))) |> -->"
      ],
      "id": "3df716f2-4e1f-458b-b3ae-c5914ce9e6b2"
    },
    {
      "cell_type": "raw",
      "metadata": {
        "raw_mimetype": "text/html"
      },
      "source": [
        "<!--   group_by(measure) |> -->"
      ],
      "id": "c1cf65cc-11e9-4b73-8a8b-84e0481e82b4"
    },
    {
      "cell_type": "raw",
      "metadata": {
        "raw_mimetype": "text/html"
      },
      "source": [
        "<!--   summarise(means = mean(as.numeric(value), na.rm = TRUE)), size = .705)   -->"
      ],
      "id": "c1337273-5f5c-4e88-844a-f694f6878362"
    },
    {
      "cell_type": "raw",
      "metadata": {
        "raw_mimetype": "text/html"
      },
      "source": [
        "<!-- ``` -->"
      ],
      "id": "e9b60a5b-550a-4f93-9795-a2c21ca2c62a"
    },
    {
      "cell_type": "raw",
      "metadata": {
        "raw_mimetype": "text/html"
      },
      "source": [
        "<!-- gps -->"
      ],
      "id": "da5257da-f788-4b8b-b49f-0b8e096167ed"
    },
    {
      "cell_type": "raw",
      "metadata": {
        "raw_mimetype": "text/html"
      },
      "source": [
        "<!-- ```{r} -->"
      ],
      "id": "4c9a6fa0-1809-417a-8930-5addfcdd63b0"
    },
    {
      "cell_type": "raw",
      "metadata": {
        "raw_mimetype": "text/html"
      },
      "source": [
        "<!-- plot_1 <- data_last |>  -->"
      ],
      "id": "328a4de4-9d00-435e-878e-e10997b91275"
    },
    {
      "cell_type": "raw",
      "metadata": {
        "raw_mimetype": "text/html"
      },
      "source": [
        "<!--   select(Dislike = location_dislike) |>  -->"
      ],
      "id": "cdee4301-519e-4789-aa09-a35cdc2ca510"
    },
    {
      "cell_type": "raw",
      "metadata": {
        "raw_mimetype": "text/html"
      },
      "source": [
        "<!--   pivot_longer(everything(), names_to = \"measure\") |>  -->"
      ],
      "id": "d56f06c2-c381-4166-b2da-737fc3ccb0f3"
    },
    {
      "cell_type": "raw",
      "metadata": {
        "raw_mimetype": "text/html"
      },
      "source": [
        "<!--   mutate(measure = factor(measure,  -->"
      ],
      "id": "3b20a5ca-b2fc-4832-9278-dd51217aeb5a"
    },
    {
      "cell_type": "raw",
      "metadata": {
        "raw_mimetype": "text/html"
      },
      "source": [
        "<!--                           levels = c(\"Interference\", \"Dislike\")), -->"
      ],
      "id": "986faa23-7ba4-49ec-a4ff-ad594d34ea73"
    },
    {
      "cell_type": "raw",
      "metadata": {
        "raw_mimetype": "text/html"
      },
      "source": [
        "<!--          value = factor(value, levels = c(-2:2),  -->"
      ],
      "id": "bf2ddda8-0d26-4d17-8e01-1ed8ee6cbd0b"
    },
    {
      "cell_type": "raw",
      "metadata": {
        "raw_mimetype": "text/html"
      },
      "source": [
        "<!--                         labels = c(\"Strongly agree\", \"Agree\", \"Undecided\", \"Disagree\", \"Strongly disagree\"))) |>  -->"
      ],
      "id": "cdfb80eb-8d29-4470-aeaf-5dfb602f24b8"
    },
    {
      "cell_type": "raw",
      "metadata": {
        "raw_mimetype": "text/html"
      },
      "source": [
        "<!--   ggplot(aes(x = value, y = ..prop.., group = measure, color = measure, fill = measure)) + -->"
      ],
      "id": "54048e71-d644-41eb-998e-2b847026c35b"
    },
    {
      "cell_type": "raw",
      "metadata": {
        "raw_mimetype": "text/html"
      },
      "source": [
        "<!--   geom_bar() + -->"
      ],
      "id": "155c1f97-c27f-4e84-a19f-9410d5328fb7"
    },
    {
      "cell_type": "raw",
      "metadata": {
        "raw_mimetype": "text/html"
      },
      "source": [
        "<!--   scale_color_manual(values = c(\"#0B5345\")) + -->"
      ],
      "id": "10e55d07-b1d6-452b-b03c-3abdc340a7f9"
    },
    {
      "cell_type": "raw",
      "metadata": {
        "raw_mimetype": "text/html"
      },
      "source": [
        "<!--   scale_fill_manual(values = c(\"#A2D9CE\")) + -->"
      ],
      "id": "b906892b-8d59-4ff9-8f3e-e2499304c455"
    },
    {
      "cell_type": "raw",
      "metadata": {
        "raw_mimetype": "text/html"
      },
      "source": [
        "<!--   facet_grid(~measure) + -->"
      ],
      "id": "1de88d28-5fb7-4b9e-bbae-2b315a608957"
    },
    {
      "cell_type": "raw",
      "metadata": {
        "raw_mimetype": "text/html"
      },
      "source": [
        "<!--   theme_classic() + -->"
      ],
      "id": "e0882682-d1f1-4c85-8d72-929b61fbcb7d"
    },
    {
      "cell_type": "raw",
      "metadata": {
        "raw_mimetype": "text/html"
      },
      "source": [
        "<!--   labs(y = \"Proportion\", -->"
      ],
      "id": "01232876-1c98-493d-bbb2-5f32e75428b0"
    },
    {
      "cell_type": "raw",
      "metadata": {
        "raw_mimetype": "text/html"
      },
      "source": [
        "<!--        x = NULL) + -->"
      ],
      "id": "a15a8e41-e633-4310-89db-e60a629daac6"
    },
    {
      "cell_type": "raw",
      "metadata": {
        "raw_mimetype": "text/html"
      },
      "source": [
        "<!--   theme(legend.position = \"none\", -->"
      ],
      "id": "0b9fcdc0-98df-4243-853b-cab03248fb5e"
    },
    {
      "cell_type": "raw",
      "metadata": {
        "raw_mimetype": "text/html"
      },
      "source": [
        "<!--         text = element_text(size = 12), -->"
      ],
      "id": "b28ca9d8-0ebf-47b5-b504-887750b4c1fe"
    },
    {
      "cell_type": "raw",
      "metadata": {
        "raw_mimetype": "text/html"
      },
      "source": [
        "<!--         axis.text.x = element_text(angle = 45, hjust = 1)) + -->"
      ],
      "id": "55f65c8d-b34f-480a-8315-2a9ea1532773"
    },
    {
      "cell_type": "raw",
      "metadata": {
        "raw_mimetype": "text/html"
      },
      "source": [
        "<!--   ylim(0, .6) + -->"
      ],
      "id": "d7256d3d-df1a-4755-b379-a503837eb39e"
    },
    {
      "cell_type": "raw",
      "metadata": {
        "raw_mimetype": "text/html"
      },
      "source": [
        "<!--   geom_vline(aes(xintercept = \"Undecided\"), linetype = \"dashed\", size = .4, color = \"black\") + -->"
      ],
      "id": "78df82db-4842-466b-b74f-ffeb99af894b"
    },
    {
      "cell_type": "raw",
      "metadata": {
        "raw_mimetype": "text/html"
      },
      "source": [
        "<!--   geom_vline(aes(xintercept = means, color = measure), data_last |>  -->"
      ],
      "id": "1fbb3b73-db01-4e02-aa64-dd23db1d8701"
    },
    {
      "cell_type": "raw",
      "metadata": {
        "raw_mimetype": "text/html"
      },
      "source": [
        "<!--   select(Dislike = location_dislike) |>  -->"
      ],
      "id": "36f17288-303f-4181-b4d0-2d5e90852f60"
    },
    {
      "cell_type": "raw",
      "metadata": {
        "raw_mimetype": "text/html"
      },
      "source": [
        "<!--   pivot_longer(everything(), names_to = \"measure\") |>  -->"
      ],
      "id": "5101789a-05c6-4386-af9b-3d63e11ef16b"
    },
    {
      "cell_type": "raw",
      "metadata": {
        "raw_mimetype": "text/html"
      },
      "source": [
        "<!--   mutate(measure = factor(measure,  -->"
      ],
      "id": "ac352d39-6b4a-44b3-9430-4129339d09dd"
    },
    {
      "cell_type": "raw",
      "metadata": {
        "raw_mimetype": "text/html"
      },
      "source": [
        "<!--                           levels = c(\"Interference\", \"Dislike\")), -->"
      ],
      "id": "ab24095c-1567-45c4-881a-eec7f7a1afdb"
    },
    {
      "cell_type": "raw",
      "metadata": {
        "raw_mimetype": "text/html"
      },
      "source": [
        "<!--          value = factor(value, levels = c(-2:2),  -->"
      ],
      "id": "875ab286-2585-45a8-a2e0-a540441a7e3a"
    },
    {
      "cell_type": "raw",
      "metadata": {
        "raw_mimetype": "text/html"
      },
      "source": [
        "<!--                         labels = c(\"Strongly agree\", \"Agree\", \"Undecided\", \"Disagree\", \"Strongly disagree\"))) |>  -->"
      ],
      "id": "097e3735-e0b3-4ef0-95b3-23110f3c7d81"
    },
    {
      "cell_type": "raw",
      "metadata": {
        "raw_mimetype": "text/html"
      },
      "source": [
        "<!--   group_by(measure) |>  -->"
      ],
      "id": "09129dfd-ecd6-4bc1-aeb4-a12fda2c2d09"
    },
    {
      "cell_type": "raw",
      "metadata": {
        "raw_mimetype": "text/html"
      },
      "source": [
        "<!--   summarise(means = mean(as.numeric(value), na.rm = TRUE)), size = .705)  -->"
      ],
      "id": "0dc48e30-6f16-40f5-8a79-58ddfd71dda7"
    },
    {
      "cell_type": "raw",
      "metadata": {
        "raw_mimetype": "text/html"
      },
      "source": [
        "<!-- plot_2 <- data_last |>  -->"
      ],
      "id": "9d5606b2-a015-4df9-888d-5482ba2063b2"
    },
    {
      "cell_type": "raw",
      "metadata": {
        "raw_mimetype": "text/html"
      },
      "source": [
        "<!--   select(`Willingness`= location_1year) |>  -->"
      ],
      "id": "a20ac12e-dca2-48df-a9f9-c80768e8312d"
    },
    {
      "cell_type": "raw",
      "metadata": {
        "raw_mimetype": "text/html"
      },
      "source": [
        "<!--   pivot_longer(everything(), names_to = \"measure\") |>  -->"
      ],
      "id": "bd1e0cf0-5a04-451d-a6f4-ca6a132d947e"
    },
    {
      "cell_type": "raw",
      "metadata": {
        "raw_mimetype": "text/html"
      },
      "source": [
        "<!--   mutate(measure = factor(measure,  -->"
      ],
      "id": "9ddbfe12-bae2-4c8c-a0ba-fe3745fd0f34"
    },
    {
      "cell_type": "raw",
      "metadata": {
        "raw_mimetype": "text/html"
      },
      "source": [
        "<!--                           levels = c(\"Willingness\")), -->"
      ],
      "id": "ecffa401-32f3-4edb-8017-2c824aaf0f3f"
    },
    {
      "cell_type": "raw",
      "metadata": {
        "raw_mimetype": "text/html"
      },
      "source": [
        "<!--          value = factor(value, levels = c(-2:2),  -->"
      ],
      "id": "3456d8fb-6e82-42ab-8f2a-1fe628f735bf"
    },
    {
      "cell_type": "raw",
      "metadata": {
        "raw_mimetype": "text/html"
      },
      "source": [
        "<!--                         labels = c(\"Strongly disagree\", \"Disagree\", \"Undecided\", \"Agree\", \"Strongly Agree\"))) |>  -->"
      ],
      "id": "eff58ece-49ad-485f-8b17-3f8bf00c1da0"
    },
    {
      "cell_type": "raw",
      "metadata": {
        "raw_mimetype": "text/html"
      },
      "source": [
        "<!--   ggplot(aes(x = value, y = ..prop.., group = measure, color = measure, fill = measure)) + -->"
      ],
      "id": "cb1ee159-053d-4349-bd2d-7aabdaeac229"
    },
    {
      "cell_type": "raw",
      "metadata": {
        "raw_mimetype": "text/html"
      },
      "source": [
        "<!--   geom_bar() + -->"
      ],
      "id": "537a96c8-787d-4563-a4da-360eb00f7561"
    },
    {
      "cell_type": "raw",
      "metadata": {
        "raw_mimetype": "text/html"
      },
      "source": [
        "<!--   scale_color_manual(values = c(\"#0B5345\")) + -->"
      ],
      "id": "0bb663ba-cf3d-4e9d-82c8-e074d3235e68"
    },
    {
      "cell_type": "raw",
      "metadata": {
        "raw_mimetype": "text/html"
      },
      "source": [
        "<!--   scale_fill_manual(values = c(\"#A2D9CE\")) + -->"
      ],
      "id": "a668272e-b9a8-4848-af6a-f764fb04d6d4"
    },
    {
      "cell_type": "raw",
      "metadata": {
        "raw_mimetype": "text/html"
      },
      "source": [
        "<!--   facet_grid(~measure) + -->"
      ],
      "id": "8dc664cc-ffb1-4c92-ae44-8034db71da33"
    },
    {
      "cell_type": "raw",
      "metadata": {
        "raw_mimetype": "text/html"
      },
      "source": [
        "<!--   theme_classic() + -->"
      ],
      "id": "e914447d-ac08-4ef5-8a46-1197e9f76195"
    },
    {
      "cell_type": "raw",
      "metadata": {
        "raw_mimetype": "text/html"
      },
      "source": [
        "<!--   labs(y = \"Proportion\", -->"
      ],
      "id": "fad0cc98-0bba-4c0f-9da3-1262d453ea61"
    },
    {
      "cell_type": "raw",
      "metadata": {
        "raw_mimetype": "text/html"
      },
      "source": [
        "<!--        x = NULL) + -->"
      ],
      "id": "e1aa8747-ff91-4b32-bbae-a3523caa5bbc"
    },
    {
      "cell_type": "raw",
      "metadata": {
        "raw_mimetype": "text/html"
      },
      "source": [
        "<!--   theme(legend.position = \"none\", -->"
      ],
      "id": "6439a536-b63b-4d71-9a20-88ccb8bbf974"
    },
    {
      "cell_type": "raw",
      "metadata": {
        "raw_mimetype": "text/html"
      },
      "source": [
        "<!--         text = element_text(size = 12), -->"
      ],
      "id": "567f6bc0-f202-4a25-b5ef-29fc13dbce84"
    },
    {
      "cell_type": "raw",
      "metadata": {
        "raw_mimetype": "text/html"
      },
      "source": [
        "<!--         axis.text.x = element_text(angle = 45, hjust = 1)) + -->"
      ],
      "id": "022a42d5-d172-4bb3-9e83-4326493ab2c9"
    },
    {
      "cell_type": "raw",
      "metadata": {
        "raw_mimetype": "text/html"
      },
      "source": [
        "<!--   ylim(0, .6) + -->"
      ],
      "id": "cf82b92b-5b13-4c36-a2ac-ac321184317e"
    },
    {
      "cell_type": "raw",
      "metadata": {
        "raw_mimetype": "text/html"
      },
      "source": [
        "<!--   geom_vline(aes(xintercept = \"Undecided\"), linetype = \"dashed\", size = .4, color = \"black\") + -->"
      ],
      "id": "613f67b9-1f58-403c-b3d6-824652866951"
    },
    {
      "cell_type": "raw",
      "metadata": {
        "raw_mimetype": "text/html"
      },
      "source": [
        "<!--   geom_vline(aes(xintercept = means, color = measure), data_last |>  -->"
      ],
      "id": "47b84312-656b-4a44-aee4-29c188f56d8d"
    },
    {
      "cell_type": "raw",
      "metadata": {
        "raw_mimetype": "text/html"
      },
      "source": [
        "<!--   select(`Willingness` = location_1year) |>  -->"
      ],
      "id": "0940898a-1d1c-4339-a81a-0314d680d983"
    },
    {
      "cell_type": "raw",
      "metadata": {
        "raw_mimetype": "text/html"
      },
      "source": [
        "<!--   pivot_longer(everything(), names_to = \"measure\") |>  -->"
      ],
      "id": "db279854-5081-4eba-ac5e-ad91c984a3b5"
    },
    {
      "cell_type": "raw",
      "metadata": {
        "raw_mimetype": "text/html"
      },
      "source": [
        "<!--   mutate(measure = factor(measure,  -->"
      ],
      "id": "a2519003-c3b7-413f-b2e4-e9f91ff79ece"
    },
    {
      "cell_type": "raw",
      "metadata": {
        "raw_mimetype": "text/html"
      },
      "source": [
        "<!--                           levels = c(\"Willingness\")), -->"
      ],
      "id": "507531a6-c319-476f-b123-1ff1ca02ed66"
    },
    {
      "cell_type": "raw",
      "metadata": {
        "raw_mimetype": "text/html"
      },
      "source": [
        "<!--          value = factor(value, levels = c(-2:2),  -->"
      ],
      "id": "0efa4f92-61ae-4910-b5a5-a610ed9dc401"
    },
    {
      "cell_type": "raw",
      "metadata": {
        "raw_mimetype": "text/html"
      },
      "source": [
        "<!--                         labels = c(\"Strongly disagree\", \"Disagree\", \"Undecided\", \"Agree\", \"Strongly Agree\"))) |>  -->"
      ],
      "id": "8fc05a77-9449-44de-bfcf-ddd5f7ec63ae"
    },
    {
      "cell_type": "raw",
      "metadata": {
        "raw_mimetype": "text/html"
      },
      "source": [
        "<!--   group_by(measure) |>  -->"
      ],
      "id": "780cc8c4-b64e-4ea0-84ce-124220bc5861"
    },
    {
      "cell_type": "raw",
      "metadata": {
        "raw_mimetype": "text/html"
      },
      "source": [
        "<!--   summarise(means = mean(as.numeric(value), na.rm = TRUE)), size = .705)  + -->"
      ],
      "id": "3f9b9d4d-7e41-474d-bf82-f3a6d7eb4fb1"
    },
    {
      "cell_type": "raw",
      "metadata": {
        "raw_mimetype": "text/html"
      },
      "source": [
        "<!--   theme(axis.title.y = element_blank(), -->"
      ],
      "id": "d8424a67-1b6d-4a44-833b-032b418ac911"
    },
    {
      "cell_type": "raw",
      "metadata": {
        "raw_mimetype": "text/html"
      },
      "source": [
        "<!--         axis.line.y = element_blank(), -->"
      ],
      "id": "a72bd4c8-da52-46c9-b4eb-585c8fe10f9a"
    },
    {
      "cell_type": "raw",
      "metadata": {
        "raw_mimetype": "text/html"
      },
      "source": [
        "<!--         axis.text.y = element_blank(), -->"
      ],
      "id": "3c3bffd6-a41a-484b-b6a4-a0006422db21"
    },
    {
      "cell_type": "raw",
      "metadata": {
        "raw_mimetype": "text/html"
      },
      "source": [
        "<!--         axis.ticks.y = element_blank()) -->"
      ],
      "id": "c0f15e47-0d98-42ec-b3f3-cd3845f6368a"
    },
    {
      "cell_type": "raw",
      "metadata": {
        "raw_mimetype": "text/html"
      },
      "source": [
        "<!-- plot_1 + plot_2  -->"
      ],
      "id": "a87570f1-c103-490c-84c9-8799627b52ff"
    },
    {
      "cell_type": "raw",
      "metadata": {
        "raw_mimetype": "text/html"
      },
      "source": [
        "<!-- ``` -->"
      ],
      "id": "eb437a52-aea4-4d39-b92a-07b28e9cec32"
    },
    {
      "cell_type": "raw",
      "metadata": {
        "raw_mimetype": "text/html"
      },
      "source": [
        "<!-- cellular communications -->"
      ],
      "id": "0f240524-a8af-4ca5-aaee-863c41e041c9"
    },
    {
      "cell_type": "raw",
      "metadata": {
        "raw_mimetype": "text/html"
      },
      "source": [
        "<!-- ```{r} -->"
      ],
      "id": "62f8d475-1a1f-46b0-861b-02ed4c0854d6"
    },
    {
      "cell_type": "raw",
      "metadata": {
        "raw_mimetype": "text/html"
      },
      "source": [
        "<!-- plot_1 <- data_last |>  -->"
      ],
      "id": "76159a75-4841-475b-bf0e-f0e724c0b42a"
    },
    {
      "cell_type": "raw",
      "metadata": {
        "raw_mimetype": "text/html"
      },
      "source": [
        "<!--   select(Dislike = all_logs_dislike) |>  -->"
      ],
      "id": "07a9c309-019b-485e-b126-7e1ebebee2fb"
    },
    {
      "cell_type": "raw",
      "metadata": {
        "raw_mimetype": "text/html"
      },
      "source": [
        "<!--   pivot_longer(everything(), names_to = \"measure\") |>  -->"
      ],
      "id": "1400c41c-6b54-491c-a4ec-cd89b0a34580"
    },
    {
      "cell_type": "raw",
      "metadata": {
        "raw_mimetype": "text/html"
      },
      "source": [
        "<!--   mutate(measure = factor(measure,  -->"
      ],
      "id": "8076c4cf-726b-42a1-be2d-0b959f153a81"
    },
    {
      "cell_type": "raw",
      "metadata": {
        "raw_mimetype": "text/html"
      },
      "source": [
        "<!--                           levels = c(\"Dislike\")), -->"
      ],
      "id": "76341240-9bd1-4182-98d6-41656d914ba3"
    },
    {
      "cell_type": "raw",
      "metadata": {
        "raw_mimetype": "text/html"
      },
      "source": [
        "<!--          value = factor(value, levels = c(-2:2),  -->"
      ],
      "id": "d6e4ed0f-8e26-4827-b730-ace5c7ada1f3"
    },
    {
      "cell_type": "raw",
      "metadata": {
        "raw_mimetype": "text/html"
      },
      "source": [
        "<!--                         labels = c(\"Strongly agree\", \"Agree\", \"Undecided\", \"Disagree\", \"Strongly disagree\")), -->"
      ],
      "id": "7d2e4fdd-d92a-486f-bdfe-40a99df14b3d"
    },
    {
      "cell_type": "raw",
      "metadata": {
        "raw_mimetype": "text/html"
      },
      "source": [
        "<!--          sensing = \"Metadata\") |>  -->"
      ],
      "id": "00546900-17a3-4d6e-b7e2-eb9675c8b7be"
    },
    {
      "cell_type": "raw",
      "metadata": {
        "raw_mimetype": "text/html"
      },
      "source": [
        "<!--   ggplot(aes(x = value, y = ..prop.., group = measure, color = measure, fill = measure)) + -->"
      ],
      "id": "56d39c71-5985-4759-9a00-b1315e408a4f"
    },
    {
      "cell_type": "raw",
      "metadata": {
        "raw_mimetype": "text/html"
      },
      "source": [
        "<!--   geom_bar() + -->"
      ],
      "id": "9edecb3d-1ee9-4859-b51a-ba94ac9f1275"
    },
    {
      "cell_type": "raw",
      "metadata": {
        "raw_mimetype": "text/html"
      },
      "source": [
        "<!--   scale_color_manual(values = c(\"#0B5345\")) + -->"
      ],
      "id": "a05a05a0-c3a9-4f03-b622-045e1fb59608"
    },
    {
      "cell_type": "raw",
      "metadata": {
        "raw_mimetype": "text/html"
      },
      "source": [
        "<!--   scale_fill_manual(values = c(\"#A2D9CE\")) + -->"
      ],
      "id": "68e4636e-7cfc-4ed6-905c-1182344518ee"
    },
    {
      "cell_type": "raw",
      "metadata": {
        "raw_mimetype": "text/html"
      },
      "source": [
        "<!--   facet_grid(~measure) + -->"
      ],
      "id": "eec4db3b-f4e1-47ad-957e-ee05ecac47f2"
    },
    {
      "cell_type": "raw",
      "metadata": {
        "raw_mimetype": "text/html"
      },
      "source": [
        "<!--   theme_classic() + -->"
      ],
      "id": "f56677c2-08b3-4fcf-a94a-c6c70fa2c6dc"
    },
    {
      "cell_type": "raw",
      "metadata": {
        "raw_mimetype": "text/html"
      },
      "source": [
        "<!--   labs(y = \"Proportion\", -->"
      ],
      "id": "fe5b3f5f-8bc1-4483-aaae-a75610a37339"
    },
    {
      "cell_type": "raw",
      "metadata": {
        "raw_mimetype": "text/html"
      },
      "source": [
        "<!--        x = NULL) + -->"
      ],
      "id": "24d73109-f438-42cb-9598-e0846f516aab"
    },
    {
      "cell_type": "raw",
      "metadata": {
        "raw_mimetype": "text/html"
      },
      "source": [
        "<!--   theme(legend.position = \"none\", -->"
      ],
      "id": "5eddbd2c-cf5c-4299-9909-88d8f70ae023"
    },
    {
      "cell_type": "raw",
      "metadata": {
        "raw_mimetype": "text/html"
      },
      "source": [
        "<!--         text = element_text(size = 12), -->"
      ],
      "id": "cc35119c-2111-40ed-9d83-6d4a5e3fe8f0"
    },
    {
      "cell_type": "raw",
      "metadata": {
        "raw_mimetype": "text/html"
      },
      "source": [
        "<!--         axis.text.x = element_text(angle = 45, hjust = 1)) + -->"
      ],
      "id": "c20bd4aa-f256-47f3-966d-aba1c1e89947"
    },
    {
      "cell_type": "raw",
      "metadata": {
        "raw_mimetype": "text/html"
      },
      "source": [
        "<!--   ylim(0, .6) + -->"
      ],
      "id": "408d6345-a2b1-4c4c-975c-ef8809a1c25c"
    },
    {
      "cell_type": "raw",
      "metadata": {
        "raw_mimetype": "text/html"
      },
      "source": [
        "<!--   geom_vline(aes(xintercept = \"Undecided\"), linetype = \"dashed\", size = .4, color = \"black\") + -->"
      ],
      "id": "95bf0065-6bac-4ca8-af63-287e9104d125"
    },
    {
      "cell_type": "raw",
      "metadata": {
        "raw_mimetype": "text/html"
      },
      "source": [
        "<!--   geom_vline(aes(xintercept = means, color = measure), data_last |>  -->"
      ],
      "id": "c2f639fd-b7dd-4533-bce6-6380c9424d31"
    },
    {
      "cell_type": "raw",
      "metadata": {
        "raw_mimetype": "text/html"
      },
      "source": [
        "<!--   select(Dislike = all_logs_dislike) |>  -->"
      ],
      "id": "632a3bfc-d49e-41e1-9b58-b4468c1b7803"
    },
    {
      "cell_type": "raw",
      "metadata": {
        "raw_mimetype": "text/html"
      },
      "source": [
        "<!--   pivot_longer(everything(), names_to = \"measure\") |>  -->"
      ],
      "id": "96c6aef7-3f52-4781-a782-dfb4713d564d"
    },
    {
      "cell_type": "raw",
      "metadata": {
        "raw_mimetype": "text/html"
      },
      "source": [
        "<!--   mutate(measure = factor(measure,  -->"
      ],
      "id": "311ca1f7-35fa-400c-b4f3-92703dc4cb6b"
    },
    {
      "cell_type": "raw",
      "metadata": {
        "raw_mimetype": "text/html"
      },
      "source": [
        "<!--                           levels = c(\"Interference\", \"Dislike\")), -->"
      ],
      "id": "db9866e5-ac4c-4067-adb7-f5a33b42e368"
    },
    {
      "cell_type": "raw",
      "metadata": {
        "raw_mimetype": "text/html"
      },
      "source": [
        "<!--          value = factor(value, levels = c(-2:2),  -->"
      ],
      "id": "d3d7e3e7-2ac1-4763-83b0-606f951988d9"
    },
    {
      "cell_type": "raw",
      "metadata": {
        "raw_mimetype": "text/html"
      },
      "source": [
        "<!--                         labels = c(\"Strongly agree\", \"Agree\", \"Undecided\", \"Disagree\", \"Strongly disagree\")), -->"
      ],
      "id": "e978315b-db88-458a-bc31-d866401e32a2"
    },
    {
      "cell_type": "raw",
      "metadata": {
        "raw_mimetype": "text/html"
      },
      "source": [
        "<!--          sensing = \"Metadata\") |>  -->"
      ],
      "id": "01231ef9-ced8-4274-afad-1fe4892a9152"
    },
    {
      "cell_type": "raw",
      "metadata": {
        "raw_mimetype": "text/html"
      },
      "source": [
        "<!--   group_by(measure) |>  -->"
      ],
      "id": "70e30ab9-34cc-4d3d-a56d-4a9514c870cf"
    },
    {
      "cell_type": "raw",
      "metadata": {
        "raw_mimetype": "text/html"
      },
      "source": [
        "<!--   summarise(means = mean(as.numeric(value), na.rm = TRUE)), size = .705) + -->"
      ],
      "id": "8a78627c-3795-4c79-b584-94c34fdc882f"
    },
    {
      "cell_type": "raw",
      "metadata": {
        "raw_mimetype": "text/html"
      },
      "source": [
        "<!--   theme(axis.ticks.x = element_blank(), -->"
      ],
      "id": "3891f1f7-d5cd-412f-a0e0-16e57c013591"
    },
    {
      "cell_type": "raw",
      "metadata": {
        "raw_mimetype": "text/html"
      },
      "source": [
        "<!--         axis.text.x = element_blank()) -->"
      ],
      "id": "bb8f8852-0f0a-4881-9d7f-df314a5279dd"
    },
    {
      "cell_type": "raw",
      "metadata": {
        "raw_mimetype": "text/html"
      },
      "source": [
        "<!-- plot_2 <- data_last |>  -->"
      ],
      "id": "dd9433b4-553c-4155-822f-673a0d788d7e"
    },
    {
      "cell_type": "raw",
      "metadata": {
        "raw_mimetype": "text/html"
      },
      "source": [
        "<!--   select(`Willingness`= all_logs_1year) |>  -->"
      ],
      "id": "b9c99731-1840-46ac-90c4-f69462b9a164"
    },
    {
      "cell_type": "raw",
      "metadata": {
        "raw_mimetype": "text/html"
      },
      "source": [
        "<!--   pivot_longer(everything(), names_to = \"measure\") |>  -->"
      ],
      "id": "eb270877-7f94-42c3-9a8c-c91286512ae0"
    },
    {
      "cell_type": "raw",
      "metadata": {
        "raw_mimetype": "text/html"
      },
      "source": [
        "<!--   mutate(measure = factor(measure,  -->"
      ],
      "id": "62c023ea-403f-4e05-bcdf-fbe9cb80bfdb"
    },
    {
      "cell_type": "raw",
      "metadata": {
        "raw_mimetype": "text/html"
      },
      "source": [
        "<!--                           levels = c(\"Willingness\")), -->"
      ],
      "id": "78654abd-08a2-410c-a355-c865f113356f"
    },
    {
      "cell_type": "raw",
      "metadata": {
        "raw_mimetype": "text/html"
      },
      "source": [
        "<!--          value = factor(value, levels = c(-2:2),  -->"
      ],
      "id": "5e25ae5f-5c31-4049-b3a1-3c572040e445"
    },
    {
      "cell_type": "raw",
      "metadata": {
        "raw_mimetype": "text/html"
      },
      "source": [
        "<!--                         labels = c(\"Strongly disagree\", \"Disagree\", \"Undecided\", \"Agree\", \"Strongly Agree\")), -->"
      ],
      "id": "b28ffbc9-d5ba-4551-8158-9bbfe5a62647"
    },
    {
      "cell_type": "raw",
      "metadata": {
        "raw_mimetype": "text/html"
      },
      "source": [
        "<!--          sensing = \"Metadata\") |>  -->"
      ],
      "id": "debed20c-c45c-4211-9c83-73e8dbc2ba7f"
    },
    {
      "cell_type": "raw",
      "metadata": {
        "raw_mimetype": "text/html"
      },
      "source": [
        "<!--   ggplot(aes(x = value, y = ..prop.., group = measure, color = measure, fill = measure)) + -->"
      ],
      "id": "5fc3bce7-dc75-4b8e-9bff-ba8bd952419b"
    },
    {
      "cell_type": "raw",
      "metadata": {
        "raw_mimetype": "text/html"
      },
      "source": [
        "<!--   geom_bar() + -->"
      ],
      "id": "41a0542f-754b-4db6-ba9d-38184adf2a3e"
    },
    {
      "cell_type": "raw",
      "metadata": {
        "raw_mimetype": "text/html"
      },
      "source": [
        "<!--   scale_color_manual(values = c(\"#0B5345\")) + -->"
      ],
      "id": "cb41b03a-64d9-4013-b7ce-212b8af26097"
    },
    {
      "cell_type": "raw",
      "metadata": {
        "raw_mimetype": "text/html"
      },
      "source": [
        "<!--   scale_fill_manual(values = c(\"#A2D9CE\")) + -->"
      ],
      "id": "2cc85d77-6b30-4173-a0d7-9731be8ea20f"
    },
    {
      "cell_type": "raw",
      "metadata": {
        "raw_mimetype": "text/html"
      },
      "source": [
        "<!--   facet_grid(sensing~measure) + -->"
      ],
      "id": "0cc37262-659a-4f45-8104-ce9f66be3d14"
    },
    {
      "cell_type": "raw",
      "metadata": {
        "raw_mimetype": "text/html"
      },
      "source": [
        "<!--   theme_classic() + -->"
      ],
      "id": "6c3d5ad9-9fe9-4269-b8ad-a16e9a9441ae"
    },
    {
      "cell_type": "raw",
      "metadata": {
        "raw_mimetype": "text/html"
      },
      "source": [
        "<!--   labs(y = \"Proportion\", -->"
      ],
      "id": "da5c87fb-b753-4163-9af7-ed1004b82f58"
    },
    {
      "cell_type": "raw",
      "metadata": {
        "raw_mimetype": "text/html"
      },
      "source": [
        "<!--        x = NULL) + -->"
      ],
      "id": "a562c9ee-ff5f-4c37-b0be-7dc6a526237b"
    },
    {
      "cell_type": "raw",
      "metadata": {
        "raw_mimetype": "text/html"
      },
      "source": [
        "<!--   theme(legend.position = \"none\", -->"
      ],
      "id": "11ba6f7f-e1b7-409a-bc51-06b9af2a9efd"
    },
    {
      "cell_type": "raw",
      "metadata": {
        "raw_mimetype": "text/html"
      },
      "source": [
        "<!--         text = element_text(size = 12), -->"
      ],
      "id": "b3914904-0793-4c93-b5db-528da5294ae1"
    },
    {
      "cell_type": "raw",
      "metadata": {
        "raw_mimetype": "text/html"
      },
      "source": [
        "<!--         axis.text.x = element_text(angle = 45, hjust = 1)) + -->"
      ],
      "id": "f09cf814-e2e6-4605-a8a9-2c152d3d9c08"
    },
    {
      "cell_type": "raw",
      "metadata": {
        "raw_mimetype": "text/html"
      },
      "source": [
        "<!--   ylim(0, .6) + -->"
      ],
      "id": "d9f2ce12-10d4-4f8b-9f87-17a00a179b0f"
    },
    {
      "cell_type": "raw",
      "metadata": {
        "raw_mimetype": "text/html"
      },
      "source": [
        "<!--   geom_vline(aes(xintercept = \"Undecided\"), linetype = \"dashed\", size = .4, color = \"black\") + -->"
      ],
      "id": "34de7982-f8f1-41c2-95e4-95475ae7922e"
    },
    {
      "cell_type": "raw",
      "metadata": {
        "raw_mimetype": "text/html"
      },
      "source": [
        "<!--   geom_vline(aes(xintercept = means, color = measure), data_last |>  -->"
      ],
      "id": "eb351af2-30a6-4888-ad33-36af0cdf5d54"
    },
    {
      "cell_type": "raw",
      "metadata": {
        "raw_mimetype": "text/html"
      },
      "source": [
        "<!--   select(`Willingness` = all_logs_1year) |>  -->"
      ],
      "id": "b68d9e91-599b-40d3-889a-c9d5da2d6357"
    },
    {
      "cell_type": "raw",
      "metadata": {
        "raw_mimetype": "text/html"
      },
      "source": [
        "<!--   pivot_longer(everything(), names_to = \"measure\") |>  -->"
      ],
      "id": "0e2cdc53-f8b0-4243-a516-6496ed6e1963"
    },
    {
      "cell_type": "raw",
      "metadata": {
        "raw_mimetype": "text/html"
      },
      "source": [
        "<!--   mutate(measure = factor(measure,  -->"
      ],
      "id": "f3eef6a0-d9c4-4be5-9a70-6a36c09869af"
    },
    {
      "cell_type": "raw",
      "metadata": {
        "raw_mimetype": "text/html"
      },
      "source": [
        "<!--                           levels = c(\"Willingness\")), -->"
      ],
      "id": "8e8a6e54-3958-431c-a824-0554d76dea9c"
    },
    {
      "cell_type": "raw",
      "metadata": {
        "raw_mimetype": "text/html"
      },
      "source": [
        "<!--          value = factor(value, levels = c(-2:2),  -->"
      ],
      "id": "1c514f07-d0ff-481e-b8d1-a48646e78cf9"
    },
    {
      "cell_type": "raw",
      "metadata": {
        "raw_mimetype": "text/html"
      },
      "source": [
        "<!--                         labels = c(\"Strongly disagree\", \"Disagree\", \"Undecided\", \"Agree\", \"Strongly Agree\")), -->"
      ],
      "id": "7b07691c-9bb1-467b-bf8b-461328894f9f"
    },
    {
      "cell_type": "raw",
      "metadata": {
        "raw_mimetype": "text/html"
      },
      "source": [
        "<!--          sensing = \"Metadata\") |>  -->"
      ],
      "id": "15a1b880-f216-4b8d-a89d-5432bf858a83"
    },
    {
      "cell_type": "raw",
      "metadata": {
        "raw_mimetype": "text/html"
      },
      "source": [
        "<!--   group_by(measure) |>  -->"
      ],
      "id": "8c622fd4-72ad-4a77-bd69-8105d34bb307"
    },
    {
      "cell_type": "raw",
      "metadata": {
        "raw_mimetype": "text/html"
      },
      "source": [
        "<!--   summarise(means = mean(as.numeric(value), na.rm = TRUE)), size = .705)  + -->"
      ],
      "id": "6f7b1361-99aa-4990-9818-07b2e06e762f"
    },
    {
      "cell_type": "raw",
      "metadata": {
        "raw_mimetype": "text/html"
      },
      "source": [
        "<!--   theme(axis.title = element_blank(), -->"
      ],
      "id": "f81b23be-0c9b-4539-933e-e045ee725444"
    },
    {
      "cell_type": "raw",
      "metadata": {
        "raw_mimetype": "text/html"
      },
      "source": [
        "<!--         axis.line.y = element_blank(), -->"
      ],
      "id": "7247f6fe-c466-405a-9802-37e3a2b0712d"
    },
    {
      "cell_type": "raw",
      "metadata": {
        "raw_mimetype": "text/html"
      },
      "source": [
        "<!--         axis.text = element_blank(), -->"
      ],
      "id": "ff30d441-51ce-4355-9a12-e059403ca750"
    },
    {
      "cell_type": "raw",
      "metadata": {
        "raw_mimetype": "text/html"
      },
      "source": [
        "<!--         axis.ticks = element_blank(), -->"
      ],
      "id": "f20b2469-debe-46c9-87e6-c621e82f28e4"
    },
    {
      "cell_type": "raw",
      "metadata": {
        "raw_mimetype": "text/html"
      },
      "source": [
        "<!--         axis.text.x = element_blank()) -->"
      ],
      "id": "289c2fdd-9eb2-463d-862f-62da9b21ce38"
    },
    {
      "cell_type": "raw",
      "metadata": {
        "raw_mimetype": "text/html"
      },
      "source": [
        "<!-- plot_3 <- data_last |>  -->"
      ],
      "id": "42b9ee2c-872a-4942-8c26-8fa3ccb32292"
    },
    {
      "cell_type": "raw",
      "metadata": {
        "raw_mimetype": "text/html"
      },
      "source": [
        "<!--   select(Dislike = sms_content_dislike) |>  -->"
      ],
      "id": "8031a74c-ac35-470a-9f9b-5bd6eed1ae0c"
    },
    {
      "cell_type": "raw",
      "metadata": {
        "raw_mimetype": "text/html"
      },
      "source": [
        "<!--   pivot_longer(everything(), names_to = \"measure\") |>  -->"
      ],
      "id": "d4a3096d-1dde-4ea3-a77c-2f946d34b798"
    },
    {
      "cell_type": "raw",
      "metadata": {
        "raw_mimetype": "text/html"
      },
      "source": [
        "<!--   mutate(measure = factor(measure,  -->"
      ],
      "id": "b1697fc2-d664-46f0-84fe-802eae6e189b"
    },
    {
      "cell_type": "raw",
      "metadata": {
        "raw_mimetype": "text/html"
      },
      "source": [
        "<!--                           levels = c(\"Dislike\")), -->"
      ],
      "id": "99488170-71b7-4137-938c-f6a9fe1ec3cd"
    },
    {
      "cell_type": "raw",
      "metadata": {
        "raw_mimetype": "text/html"
      },
      "source": [
        "<!--          value = factor(value, levels = c(-2:2),  -->"
      ],
      "id": "db198ce7-363a-49fa-b5c6-973de47c71c8"
    },
    {
      "cell_type": "raw",
      "metadata": {
        "raw_mimetype": "text/html"
      },
      "source": [
        "<!--                         labels = c(\"Strongly agree\", \"Agree\", \"Undecided\", \"Disagree\", \"Strongly disagree\")), -->"
      ],
      "id": "48232d25-bf2a-4feb-b296-a5f6e8ac76a2"
    },
    {
      "cell_type": "raw",
      "metadata": {
        "raw_mimetype": "text/html"
      },
      "source": [
        "<!--          sensing = \"SMS Content\") |>  -->"
      ],
      "id": "a275a5c4-7641-4c8f-8f5e-9220ade77e68"
    },
    {
      "cell_type": "raw",
      "metadata": {
        "raw_mimetype": "text/html"
      },
      "source": [
        "<!--   ggplot(aes(x = value, y = ..prop.., group = measure, color = measure, fill = measure)) + -->"
      ],
      "id": "6d4c473e-e954-454a-a464-98f8b17b20bc"
    },
    {
      "cell_type": "raw",
      "metadata": {
        "raw_mimetype": "text/html"
      },
      "source": [
        "<!--   geom_bar() + -->"
      ],
      "id": "431da823-0648-4ed2-b342-bd599af3a229"
    },
    {
      "cell_type": "raw",
      "metadata": {
        "raw_mimetype": "text/html"
      },
      "source": [
        "<!--    scale_color_manual(values = c(\"#0B5345\")) + -->"
      ],
      "id": "694941b1-db39-44b8-9aac-2d4dee5f2ca5"
    },
    {
      "cell_type": "raw",
      "metadata": {
        "raw_mimetype": "text/html"
      },
      "source": [
        "<!--   scale_fill_manual(values = c(\"#A2D9CE\")) + -->"
      ],
      "id": "b12efbb4-3fa3-4dba-87eb-848a1d9f98f5"
    },
    {
      "cell_type": "raw",
      "metadata": {
        "raw_mimetype": "text/html"
      },
      "source": [
        "<!--   facet_grid(~measure) + -->"
      ],
      "id": "225ba627-0cd4-465a-b040-492bf63a4c9d"
    },
    {
      "cell_type": "raw",
      "metadata": {
        "raw_mimetype": "text/html"
      },
      "source": [
        "<!--   theme_classic() + -->"
      ],
      "id": "0775b07b-0d53-41f9-83a3-9cbab6bc1e5b"
    },
    {
      "cell_type": "raw",
      "metadata": {
        "raw_mimetype": "text/html"
      },
      "source": [
        "<!--   labs(y = \"Proportion\", -->"
      ],
      "id": "965b25c7-a464-42cb-b37f-914aaf9337a9"
    },
    {
      "cell_type": "raw",
      "metadata": {
        "raw_mimetype": "text/html"
      },
      "source": [
        "<!--        x = NULL) + -->"
      ],
      "id": "90f02bfb-2284-482c-854c-19869f243f7f"
    },
    {
      "cell_type": "raw",
      "metadata": {
        "raw_mimetype": "text/html"
      },
      "source": [
        "<!--   theme(legend.position = \"none\", -->"
      ],
      "id": "8b40b06e-172b-4c3a-b797-bf5201b94060"
    },
    {
      "cell_type": "raw",
      "metadata": {
        "raw_mimetype": "text/html"
      },
      "source": [
        "<!--         text = element_text(size = 12), -->"
      ],
      "id": "c38c58de-f3f6-4b74-9f6b-a5b62ae3a72a"
    },
    {
      "cell_type": "raw",
      "metadata": {
        "raw_mimetype": "text/html"
      },
      "source": [
        "<!--         axis.text.x = element_text(angle = 45, hjust = 1)) + -->"
      ],
      "id": "4cc6899a-223c-47a3-a3a0-a87b8cabe1ad"
    },
    {
      "cell_type": "raw",
      "metadata": {
        "raw_mimetype": "text/html"
      },
      "source": [
        "<!--   ylim(0, .6) + -->"
      ],
      "id": "da1637b2-e8a5-4730-a20f-0c2c5aee5ce4"
    },
    {
      "cell_type": "raw",
      "metadata": {
        "raw_mimetype": "text/html"
      },
      "source": [
        "<!--   geom_vline(aes(xintercept = \"Undecided\"), linetype = \"dashed\", size = .4, color = \"black\") + -->"
      ],
      "id": "8ec34bb0-310f-474e-90b6-ac6fb0dd9b6d"
    },
    {
      "cell_type": "raw",
      "metadata": {
        "raw_mimetype": "text/html"
      },
      "source": [
        "<!--   geom_vline(aes(xintercept = means, color = measure), data_last |>  -->"
      ],
      "id": "716b3a73-bd34-419a-9c84-3110dca3bed5"
    },
    {
      "cell_type": "raw",
      "metadata": {
        "raw_mimetype": "text/html"
      },
      "source": [
        "<!--   select(Dislike = sms_content_dislike) |>  -->"
      ],
      "id": "7967cfd9-65d0-4b4f-a36e-ade8761570ac"
    },
    {
      "cell_type": "raw",
      "metadata": {
        "raw_mimetype": "text/html"
      },
      "source": [
        "<!--   pivot_longer(everything(), names_to = \"measure\") |>  -->"
      ],
      "id": "c7404f0e-bcea-48b5-95b4-cab3e839e8f5"
    },
    {
      "cell_type": "raw",
      "metadata": {
        "raw_mimetype": "text/html"
      },
      "source": [
        "<!--   mutate(measure = factor(measure,  -->"
      ],
      "id": "bdce0eba-7c23-42b1-b8e8-72811180ca8e"
    },
    {
      "cell_type": "raw",
      "metadata": {
        "raw_mimetype": "text/html"
      },
      "source": [
        "<!--                           levels = c(\"Dislike\")), -->"
      ],
      "id": "66e027ed-3753-4f8b-82a1-cce965404fa7"
    },
    {
      "cell_type": "raw",
      "metadata": {
        "raw_mimetype": "text/html"
      },
      "source": [
        "<!--          value = factor(value, levels = c(-2:2),  -->"
      ],
      "id": "6c64d3c7-4960-4dd0-832e-0eea276bb976"
    },
    {
      "cell_type": "raw",
      "metadata": {
        "raw_mimetype": "text/html"
      },
      "source": [
        "<!--                         labels = c(\"Strongly agree\", \"Agree\", \"Undecided\", \"Disagree\", \"Strongly disagree\")), -->"
      ],
      "id": "73509c9b-cb86-4385-a820-96e2d544f848"
    },
    {
      "cell_type": "raw",
      "metadata": {
        "raw_mimetype": "text/html"
      },
      "source": [
        "<!--          sensing = \"SMS Content\") |>  -->"
      ],
      "id": "f6d7e3bd-eaae-4c90-bc17-2df153d44505"
    },
    {
      "cell_type": "raw",
      "metadata": {
        "raw_mimetype": "text/html"
      },
      "source": [
        "<!--   group_by(measure) |>  -->"
      ],
      "id": "107472cb-dfa7-4dd4-8040-a6f3e57d1979"
    },
    {
      "cell_type": "raw",
      "metadata": {
        "raw_mimetype": "text/html"
      },
      "source": [
        "<!--   summarise(means = mean(as.numeric(value), na.rm = TRUE)), size = .705)  -->"
      ],
      "id": "434dd911-8a3c-4667-a9c4-37a33b91cb9a"
    },
    {
      "cell_type": "raw",
      "metadata": {
        "raw_mimetype": "text/html"
      },
      "source": [
        "<!-- plot_4 <- data_last |>  -->"
      ],
      "id": "2b73a1bc-7172-4e4d-9ebf-9b430dc21d73"
    },
    {
      "cell_type": "raw",
      "metadata": {
        "raw_mimetype": "text/html"
      },
      "source": [
        "<!--   select(`Willingness`= sms_content_1year) |>  -->"
      ],
      "id": "640a997d-1fd0-44f3-879c-377d56a0682a"
    },
    {
      "cell_type": "raw",
      "metadata": {
        "raw_mimetype": "text/html"
      },
      "source": [
        "<!--   pivot_longer(everything(), names_to = \"measure\") |>  -->"
      ],
      "id": "86378103-efd8-4926-80a0-0ea08d303c38"
    },
    {
      "cell_type": "raw",
      "metadata": {
        "raw_mimetype": "text/html"
      },
      "source": [
        "<!--   mutate(measure = factor(measure,  -->"
      ],
      "id": "efc5f7e9-5b5d-4bcc-b19f-2d66883feaee"
    },
    {
      "cell_type": "raw",
      "metadata": {
        "raw_mimetype": "text/html"
      },
      "source": [
        "<!--                           levels = c(\"Willingness\")), -->"
      ],
      "id": "6032b810-e98a-4724-9622-dac37d5ed951"
    },
    {
      "cell_type": "raw",
      "metadata": {
        "raw_mimetype": "text/html"
      },
      "source": [
        "<!--          value = factor(value, levels = c(-2:2),  -->"
      ],
      "id": "84a182d2-ce67-461c-a607-c25d144e5d08"
    },
    {
      "cell_type": "raw",
      "metadata": {
        "raw_mimetype": "text/html"
      },
      "source": [
        "<!--                         labels = c(\"Strongly disagree\", \"Disagree\", \"Undecided\", \"Agree\", \"Strongly Agree\")), -->"
      ],
      "id": "db15bc11-989a-426e-b2be-4320e5355b2f"
    },
    {
      "cell_type": "raw",
      "metadata": {
        "raw_mimetype": "text/html"
      },
      "source": [
        "<!--          sensing = \"SMS Content\") |>  -->"
      ],
      "id": "10326713-48a8-40bc-a42a-fce8ed910a68"
    },
    {
      "cell_type": "raw",
      "metadata": {
        "raw_mimetype": "text/html"
      },
      "source": [
        "<!--   ggplot(aes(x = value, y = ..prop.., group = measure, color = measure, fill = measure)) + -->"
      ],
      "id": "9d85cf7b-05dd-4e3b-8255-287012ed2765"
    },
    {
      "cell_type": "raw",
      "metadata": {
        "raw_mimetype": "text/html"
      },
      "source": [
        "<!--   geom_bar() + -->"
      ],
      "id": "d51de4e8-017d-4032-882a-a602d94c1188"
    },
    {
      "cell_type": "raw",
      "metadata": {
        "raw_mimetype": "text/html"
      },
      "source": [
        "<!--    scale_color_manual(values = c(\"#0B5345\")) + -->"
      ],
      "id": "524e3b69-4236-4650-b30d-1e5db63668bf"
    },
    {
      "cell_type": "raw",
      "metadata": {
        "raw_mimetype": "text/html"
      },
      "source": [
        "<!--   scale_fill_manual(values = c(\"#A2D9CE\")) + -->"
      ],
      "id": "1c9ceb21-f745-4332-8622-4ddbcfea9f64"
    },
    {
      "cell_type": "raw",
      "metadata": {
        "raw_mimetype": "text/html"
      },
      "source": [
        "<!--   facet_grid(sensing~measure) + -->"
      ],
      "id": "b7dad200-fc09-4b5d-ae3a-bf569b6b8492"
    },
    {
      "cell_type": "raw",
      "metadata": {
        "raw_mimetype": "text/html"
      },
      "source": [
        "<!--   theme_classic() + -->"
      ],
      "id": "a6d0b411-808d-4605-ba85-92350323b27f"
    },
    {
      "cell_type": "raw",
      "metadata": {
        "raw_mimetype": "text/html"
      },
      "source": [
        "<!--   labs(y = \"Proportion\", -->"
      ],
      "id": "26acc528-b5c8-4a3f-89ac-dbd343234dd7"
    },
    {
      "cell_type": "raw",
      "metadata": {
        "raw_mimetype": "text/html"
      },
      "source": [
        "<!--        x = NULL) + -->"
      ],
      "id": "f1590b54-3503-43fa-84ac-a48582f72226"
    },
    {
      "cell_type": "raw",
      "metadata": {
        "raw_mimetype": "text/html"
      },
      "source": [
        "<!--   theme(legend.position = \"none\", -->"
      ],
      "id": "8f0d67f5-cacf-48cd-afff-127b5639448e"
    },
    {
      "cell_type": "raw",
      "metadata": {
        "raw_mimetype": "text/html"
      },
      "source": [
        "<!--         text = element_text(size = 12), -->"
      ],
      "id": "130fcaa4-78ac-4c8e-8b0a-3e155a1a42d2"
    },
    {
      "cell_type": "raw",
      "metadata": {
        "raw_mimetype": "text/html"
      },
      "source": [
        "<!--         axis.text.x = element_text(angle = 45, hjust = 1)) + -->"
      ],
      "id": "a4ee6b24-6291-41f2-8e0e-d276f9b29fe7"
    },
    {
      "cell_type": "raw",
      "metadata": {
        "raw_mimetype": "text/html"
      },
      "source": [
        "<!--   ylim(0, .6) + -->"
      ],
      "id": "d8e75c83-da46-4489-8eac-55b4d89d4924"
    },
    {
      "cell_type": "raw",
      "metadata": {
        "raw_mimetype": "text/html"
      },
      "source": [
        "<!--   geom_vline(aes(xintercept = \"Undecided\"), linetype = \"dashed\", size = .4, color = \"black\") + -->"
      ],
      "id": "8bd4e1ed-21aa-40ee-9514-451fcf290472"
    },
    {
      "cell_type": "raw",
      "metadata": {
        "raw_mimetype": "text/html"
      },
      "source": [
        "<!--   geom_vline(aes(xintercept = means, color = measure), data_last |>  -->"
      ],
      "id": "400c5013-975a-44f2-b232-2d6ebb628846"
    },
    {
      "cell_type": "raw",
      "metadata": {
        "raw_mimetype": "text/html"
      },
      "source": [
        "<!--   select(`Willingness` = sms_content_1year) |>  -->"
      ],
      "id": "9f9b82cc-0903-4bc8-94b5-2108821a96c4"
    },
    {
      "cell_type": "raw",
      "metadata": {
        "raw_mimetype": "text/html"
      },
      "source": [
        "<!--   pivot_longer(everything(), names_to = \"measure\") |>  -->"
      ],
      "id": "53141895-d6c5-44ce-a22b-366e13fd9795"
    },
    {
      "cell_type": "raw",
      "metadata": {
        "raw_mimetype": "text/html"
      },
      "source": [
        "<!--   mutate(measure = factor(measure,  -->"
      ],
      "id": "454efa5a-f240-441a-a6d5-41d67b60526a"
    },
    {
      "cell_type": "raw",
      "metadata": {
        "raw_mimetype": "text/html"
      },
      "source": [
        "<!--                           levels = c(\"Willingness\")), -->"
      ],
      "id": "f2519244-5a41-4078-936b-f96bd2eb8e8a"
    },
    {
      "cell_type": "raw",
      "metadata": {
        "raw_mimetype": "text/html"
      },
      "source": [
        "<!--          value = factor(value, levels = c(-2:2),  -->"
      ],
      "id": "2e1da95c-d6e8-42ee-80ee-fae34394760b"
    },
    {
      "cell_type": "raw",
      "metadata": {
        "raw_mimetype": "text/html"
      },
      "source": [
        "<!--                         labels = c(\"Strongly disagree\", \"Disagree\", \"Undecided\", \"Agree\", \"Strongly Agree\")), -->"
      ],
      "id": "de4c7c4e-5222-4077-a971-31c3a7355c3c"
    },
    {
      "cell_type": "raw",
      "metadata": {
        "raw_mimetype": "text/html"
      },
      "source": [
        "<!--          sensing = \"SMS Content\") |>  -->"
      ],
      "id": "b63f5a24-ed57-4f09-952c-2466888148a0"
    },
    {
      "cell_type": "raw",
      "metadata": {
        "raw_mimetype": "text/html"
      },
      "source": [
        "<!--   group_by(measure) |>  -->"
      ],
      "id": "5a6f7d9a-732d-47ba-976b-d432645169c9"
    },
    {
      "cell_type": "raw",
      "metadata": {
        "raw_mimetype": "text/html"
      },
      "source": [
        "<!--   summarise(means = mean(as.numeric(value), na.rm = TRUE)), size = .705)  + -->"
      ],
      "id": "3564abc2-d9ef-4ef9-a418-e5802ccd7dae"
    },
    {
      "cell_type": "raw",
      "metadata": {
        "raw_mimetype": "text/html"
      },
      "source": [
        "<!--   theme(axis.title = element_blank(), -->"
      ],
      "id": "39e5aa02-fb35-417b-bb2e-6b26b8d5a0a8"
    },
    {
      "cell_type": "raw",
      "metadata": {
        "raw_mimetype": "text/html"
      },
      "source": [
        "<!--         axis.line.y = element_blank(), -->"
      ],
      "id": "fa4a3beb-2585-4b82-9426-cd66668891bb"
    },
    {
      "cell_type": "raw",
      "metadata": {
        "raw_mimetype": "text/html"
      },
      "source": [
        "<!--         axis.text.y = element_blank(), -->"
      ],
      "id": "0caed262-3222-4a00-a866-85814d92ae52"
    },
    {
      "cell_type": "raw",
      "metadata": {
        "raw_mimetype": "text/html"
      },
      "source": [
        "<!--         axis.ticks.y = element_blank()) -->"
      ],
      "id": "2846256d-1731-4657-b15d-9db3941ebc01"
    },
    {
      "cell_type": "raw",
      "metadata": {
        "raw_mimetype": "text/html"
      },
      "source": [
        "<!-- (plot_1 + plot_2) / (plot_3 + plot_4) -->"
      ],
      "id": "d203a6ad-1eda-4173-b095-26448d5e59f6"
    },
    {
      "cell_type": "raw",
      "metadata": {
        "raw_mimetype": "text/html"
      },
      "source": [
        "<!-- ``` -->"
      ],
      "id": "829cf06c-7636-4954-b917-c8d606f16113"
    },
    {
      "cell_type": "raw",
      "metadata": {
        "raw_mimetype": "text/html"
      },
      "source": [
        "<!-- ```{r} -->"
      ],
      "id": "7e1650b4-5876-492e-b5e5-e0d16d8e8c7a"
    },
    {
      "cell_type": "raw",
      "metadata": {
        "raw_mimetype": "text/html"
      },
      "source": [
        "<!-- #| label: fig-interference -->"
      ],
      "id": "619aa5b7-4be7-41ec-ab4d-e744d672855f"
    },
    {
      "cell_type": "raw",
      "metadata": {
        "raw_mimetype": "text/html"
      },
      "source": [
        "<!-- #| fig-cap: \"[personal sensing method] interfered with my daily activities\" -->"
      ],
      "id": "e127efa1-6f0e-41f3-b37e-708bf26633c8"
    },
    {
      "cell_type": "raw",
      "metadata": {
        "raw_mimetype": "text/html"
      },
      "source": [
        "<!-- interference_plot_data <- data_last %>%  -->"
      ],
      "id": "65b4eab2-ed7d-4cd7-9382-a1d574b456d8"
    },
    {
      "cell_type": "raw",
      "metadata": {
        "raw_mimetype": "text/html"
      },
      "source": [
        "<!--   select(contains(\"interfere\"), -carrying_phone_interfere) %>%    -->"
      ],
      "id": "62c8823b-8ecb-49c5-8e5e-3e479a910abf"
    },
    {
      "cell_type": "raw",
      "metadata": {
        "raw_mimetype": "text/html"
      },
      "source": [
        "<!--   pivot_longer(everything(), names_to = \"measure\", values_drop_na = TRUE) %>%  -->"
      ],
      "id": "106e0cb0-d7c5-49c3-818b-23afa5c306ff"
    },
    {
      "cell_type": "raw",
      "metadata": {
        "raw_mimetype": "text/html"
      },
      "source": [
        "<!--   mutate(measure = factor(measure,  -->"
      ],
      "id": "11068321-041b-4e6f-bae0-c77f24d73093"
    },
    {
      "cell_type": "raw",
      "metadata": {
        "raw_mimetype": "text/html"
      },
      "source": [
        "<!--                           levels = c(\"audio_checkin_interfere\", \"daily_survey_interfere\",  -->"
      ],
      "id": "fe20f3e6-506f-441c-9a16-5169e4c3467e"
    },
    {
      "cell_type": "raw",
      "metadata": {
        "raw_mimetype": "text/html"
      },
      "source": [
        "<!--                                      \"sleep_interfere\"), -->"
      ],
      "id": "f7b8fe59-4358-4504-977d-9ea06ddb9c74"
    },
    {
      "cell_type": "raw",
      "metadata": {
        "raw_mimetype": "text/html"
      },
      "source": [
        "<!--                           labels = c(\"Audio check-in\", \"EMA\", \"Sleep quality\"))) %>%  -->"
      ],
      "id": "38cbaa75-51b8-4f52-bac1-f01747872cba"
    },
    {
      "cell_type": "raw",
      "metadata": {
        "raw_mimetype": "text/html"
      },
      "source": [
        "<!--   mutate(value = factor(value, levels = c(-2:2), labels = c(\"Strongly agree\", \"Agree\", \"Undecided\", \"Disagree\", \"Strongly disagree\"))) %>%  -->"
      ],
      "id": "a81a3e91-1b45-4f54-9919-6a2738360bba"
    },
    {
      "cell_type": "raw",
      "metadata": {
        "raw_mimetype": "text/html"
      },
      "source": [
        "<!--   mutate(active = case_when(measure == \"Audio check-in\" ~ \"Active methods\", -->"
      ],
      "id": "8de5669f-2f06-45ac-8182-de3562de68e0"
    },
    {
      "cell_type": "raw",
      "metadata": {
        "raw_mimetype": "text/html"
      },
      "source": [
        "<!--                             measure == \"EMA\" ~ \"Active methods\", -->"
      ],
      "id": "e99f0751-a523-4750-9db8-8a6a97609dbd"
    },
    {
      "cell_type": "raw",
      "metadata": {
        "raw_mimetype": "text/html"
      },
      "source": [
        "<!--                             measure == \"Sleep quality\" ~ \"Active methods\"))  -->"
      ],
      "id": "bb34123c-eca7-4508-8667-bf868e90d61e"
    },
    {
      "cell_type": "raw",
      "metadata": {
        "raw_mimetype": "text/html"
      },
      "source": [
        "<!-- interference_plot <- interference_plot_data %>%  -->"
      ],
      "id": "1a4cb112-6983-49b0-ba93-cc1c248e5280"
    },
    {
      "cell_type": "raw",
      "metadata": {
        "raw_mimetype": "text/html"
      },
      "source": [
        "<!--   filter(measure == \"Audio check-in\" | measure == \"EMA\" | measure == \"Sleep quality\") %>%  -->"
      ],
      "id": "ce307167-59bb-4a2e-881b-4acfd941cd6d"
    },
    {
      "cell_type": "raw",
      "metadata": {
        "raw_mimetype": "text/html"
      },
      "source": [
        "<!--   ggplot(aes(x = value, y = ..prop.., group = measure)) + -->"
      ],
      "id": "88843239-e442-4ef4-adf9-5d4a2ddea4dd"
    },
    {
      "cell_type": "raw",
      "metadata": {
        "raw_mimetype": "text/html"
      },
      "source": [
        "<!--   geom_bar(color = \"black\", fill = \"#FFDEDE\") + -->"
      ],
      "id": "a2378232-73e3-424b-8bdd-eb08233f92bf"
    },
    {
      "cell_type": "raw",
      "metadata": {
        "raw_mimetype": "text/html"
      },
      "source": [
        "<!--   facet_grid(active ~ measure) + -->"
      ],
      "id": "96e12980-228c-43d7-bb94-49b2bb74ddc0"
    },
    {
      "cell_type": "raw",
      "metadata": {
        "raw_mimetype": "text/html"
      },
      "source": [
        "<!--   theme_classic() + -->"
      ],
      "id": "f3d8398b-8238-4d41-9777-9a0a43a7210e"
    },
    {
      "cell_type": "raw",
      "metadata": {
        "raw_mimetype": "text/html"
      },
      "source": [
        "<!--   labs(y = \"Proportion\", -->"
      ],
      "id": "c6ada779-04b3-4d2a-b780-d932125e2e2d"
    },
    {
      "cell_type": "raw",
      "metadata": {
        "raw_mimetype": "text/html"
      },
      "source": [
        "<!--        x = NULL) + -->"
      ],
      "id": "5ddfc526-fac3-4f77-9a34-19d27ea093e1"
    },
    {
      "cell_type": "raw",
      "metadata": {
        "raw_mimetype": "text/html"
      },
      "source": [
        "<!--   theme(legend.position = \"none\", -->"
      ],
      "id": "e27efce1-3720-42a8-a9a5-5ecd06f54701"
    },
    {
      "cell_type": "raw",
      "metadata": {
        "raw_mimetype": "text/html"
      },
      "source": [
        "<!--         text = element_text(size = 12), -->"
      ],
      "id": "78b53c77-2a94-48df-b54a-76c63ee9c3cb"
    },
    {
      "cell_type": "raw",
      "metadata": {
        "raw_mimetype": "text/html"
      },
      "source": [
        "<!--         axis.text.x = element_text(angle = 45, hjust = 1)) + -->"
      ],
      "id": "b86a9005-9ebb-4718-b8f7-ccbbc3b5a430"
    },
    {
      "cell_type": "raw",
      "metadata": {
        "raw_mimetype": "text/html"
      },
      "source": [
        "<!--   ylim(0, .6) + -->"
      ],
      "id": "29be8078-fad7-4fa5-b7d6-674b96bb9135"
    },
    {
      "cell_type": "raw",
      "metadata": {
        "raw_mimetype": "text/html"
      },
      "source": [
        "<!--   geom_vline(aes(xintercept = \"Undecided\"), linetype = \"dashed\", size = .4, color = \"#787575\") + -->"
      ],
      "id": "2b97a553-f469-4dcc-a88d-857eac5c96af"
    },
    {
      "cell_type": "raw",
      "metadata": {
        "raw_mimetype": "text/html"
      },
      "source": [
        "<!--   geom_vline(aes(xintercept = means), interference_plot_data %>%  -->"
      ],
      "id": "3cc9784a-a934-4f42-9a30-3617739f008a"
    },
    {
      "cell_type": "raw",
      "metadata": {
        "raw_mimetype": "text/html"
      },
      "source": [
        "<!--   filter(measure == \"Audio check-in\" | measure == \"EMA\" | measure == \"Sleep quality\") %>%  -->"
      ],
      "id": "a00835a7-7e94-48eb-8f5a-a78d2be57c7d"
    },
    {
      "cell_type": "raw",
      "metadata": {
        "raw_mimetype": "text/html"
      },
      "source": [
        "<!--   group_by(measure) %>%  -->"
      ],
      "id": "404de4cb-d0f9-46a7-8c1a-68226d862d97"
    },
    {
      "cell_type": "raw",
      "metadata": {
        "raw_mimetype": "text/html"
      },
      "source": [
        "<!--   summarise(means = mean(as.numeric(value), na.rm = TRUE)), size = .705, color = \"#b44343\")  -->"
      ],
      "id": "e643700b-219e-49d5-a8ca-ed380f726025"
    },
    {
      "cell_type": "raw",
      "metadata": {
        "raw_mimetype": "text/html"
      },
      "source": [
        "<!-- interference_plot -->"
      ],
      "id": "e1a36469-c76b-49e4-bbe1-6a27a4c3f0a8"
    },
    {
      "cell_type": "raw",
      "metadata": {
        "raw_mimetype": "text/html"
      },
      "source": [
        "<!-- ``` -->"
      ],
      "id": "e2ec11e7-328e-4b0b-a76c-893aae7aca69"
    },
    {
      "cell_type": "raw",
      "metadata": {
        "raw_mimetype": "text/html"
      },
      "source": [
        "<!-- ```{r} -->"
      ],
      "id": "74ffc093-ee2f-4844-8255-3fe4a6f97535"
    },
    {
      "cell_type": "raw",
      "metadata": {
        "raw_mimetype": "text/html"
      },
      "source": [
        "<!-- #| label: fig-dislike -->"
      ],
      "id": "8aa06423-3fbd-4be7-9c88-c644af97999a"
    },
    {
      "cell_type": "raw",
      "metadata": {
        "raw_mimetype": "text/html"
      },
      "source": [
        "<!-- #| fig-cap: \"I disliked [personal sensing method]\" -->"
      ],
      "id": "1d2f4b22-75d6-403b-8b7a-37ddc5b18f26"
    },
    {
      "cell_type": "raw",
      "metadata": {
        "raw_mimetype": "text/html"
      },
      "source": [
        "<!-- dislike_plot_data <- data_last %>%  -->"
      ],
      "id": "9d5c179e-5738-4000-aea7-ea296123b928"
    },
    {
      "cell_type": "raw",
      "metadata": {
        "raw_mimetype": "text/html"
      },
      "source": [
        "<!--   select(contains(\"dislike\")) %>%   -->"
      ],
      "id": "c153a0a8-8a99-4471-ae8e-ffa1ba0d2113"
    },
    {
      "cell_type": "raw",
      "metadata": {
        "raw_mimetype": "text/html"
      },
      "source": [
        "<!--   pivot_longer(everything(), names_to = \"measure\", values_drop_na = TRUE) %>%  -->"
      ],
      "id": "6a644534-8471-4202-8e8b-f24b3fa34728"
    },
    {
      "cell_type": "raw",
      "metadata": {
        "raw_mimetype": "text/html"
      },
      "source": [
        "<!--    mutate(measure = factor(measure,  -->"
      ],
      "id": "673d49b2-d145-423f-a7a6-5a00c02a5476"
    },
    {
      "cell_type": "raw",
      "metadata": {
        "raw_mimetype": "text/html"
      },
      "source": [
        "<!--                           levels = c(\"audio_checkin_dislike\", \"daily_survey_dislike\", \"sleep_dislike\", -->"
      ],
      "id": "5987788a-9c36-45f6-a3c4-ca0fed4f2b16"
    },
    {
      "cell_type": "raw",
      "metadata": {
        "raw_mimetype": "text/html"
      },
      "source": [
        "<!--                                      \"location_dislike\", \"all_logs_dislike\", \"sms_content_dislike\"), -->"
      ],
      "id": "fececa3f-2e35-4dea-b333-47c70f5437cd"
    },
    {
      "cell_type": "raw",
      "metadata": {
        "raw_mimetype": "text/html"
      },
      "source": [
        "<!--                           labels = c(\"Audio check-in\", \"EMA\", \"Sleep quality\", -->"
      ],
      "id": "d6a6610d-fa41-47e0-8463-d1cf6b2aff8e"
    },
    {
      "cell_type": "raw",
      "metadata": {
        "raw_mimetype": "text/html"
      },
      "source": [
        "<!--                                      \"Geolocation\", \"Cellular communication logs\", \"SMS text message content\"))) %>%  -->"
      ],
      "id": "34f85bd7-cb8e-4f9e-bca4-7daf99389827"
    },
    {
      "cell_type": "raw",
      "metadata": {
        "raw_mimetype": "text/html"
      },
      "source": [
        "<!--   mutate(value = factor(value, levels = c(-2:2), labels = c(\"Strongly agree\", \"Agree\", \"Undecided\", \"Disagree\", \"Strongly disagree\"))) %>%  -->"
      ],
      "id": "4f0541de-2479-4557-b24a-42d4c3690ee8"
    },
    {
      "cell_type": "raw",
      "metadata": {
        "raw_mimetype": "text/html"
      },
      "source": [
        "<!--   mutate(active = case_when(measure == \"Audio check-in\" ~ \"Active methods\", -->"
      ],
      "id": "608b6c97-bd25-4657-8604-e3b9f8b63905"
    },
    {
      "cell_type": "raw",
      "metadata": {
        "raw_mimetype": "text/html"
      },
      "source": [
        "<!--                             measure == \"EMA\" ~ \"Active methods\", -->"
      ],
      "id": "ae53a0bc-61cc-4c14-951d-9c3d685040b7"
    },
    {
      "cell_type": "raw",
      "metadata": {
        "raw_mimetype": "text/html"
      },
      "source": [
        "<!--                             measure == \"Sleep quality\" ~ \"Active methods\", -->"
      ],
      "id": "18a15dad-a0fe-425d-82b3-a0011e8d7fbd"
    },
    {
      "cell_type": "raw",
      "metadata": {
        "raw_mimetype": "text/html"
      },
      "source": [
        "<!--                             measure == \"Geolocation\" ~ \"Passive methods\", -->"
      ],
      "id": "10b3b74b-3e2e-463f-a9bc-e8ff87279baf"
    },
    {
      "cell_type": "raw",
      "metadata": {
        "raw_mimetype": "text/html"
      },
      "source": [
        "<!--                             measure == \"Cellular communication logs\" ~ \"Passive methods\", -->"
      ],
      "id": "3a1bebcc-da18-4762-ac1c-e4de3ad7be38"
    },
    {
      "cell_type": "raw",
      "metadata": {
        "raw_mimetype": "text/html"
      },
      "source": [
        "<!--                             measure == \"SMS text message content\" ~ \"Passive methods\"))  -->"
      ],
      "id": "502efe51-4c8c-47b8-a101-9c58fb951d59"
    },
    {
      "cell_type": "raw",
      "metadata": {
        "raw_mimetype": "text/html"
      },
      "source": [
        "<!-- active_dis <- dislike_plot_data %>%  -->"
      ],
      "id": "fc38ecc8-c4bd-4664-8eac-635781819866"
    },
    {
      "cell_type": "raw",
      "metadata": {
        "raw_mimetype": "text/html"
      },
      "source": [
        "<!--   filter(measure == \"Audio check-in\" | measure == \"EMA\" | measure == \"Sleep quality\") %>%  -->"
      ],
      "id": "53546a8c-d20d-4f57-938a-36a48a6e340d"
    },
    {
      "cell_type": "raw",
      "metadata": {
        "raw_mimetype": "text/html"
      },
      "source": [
        "<!--   ggplot(aes(x = value, y = ..prop.., group = measure)) + -->"
      ],
      "id": "900ce18c-a67b-44a2-bd8f-3422461fecf6"
    },
    {
      "cell_type": "raw",
      "metadata": {
        "raw_mimetype": "text/html"
      },
      "source": [
        "<!--   geom_bar(color = \"black\", fill = \"#FFDEDE\") + -->"
      ],
      "id": "5703eead-6dee-4aa5-ba7b-f4fd78a2a99a"
    },
    {
      "cell_type": "raw",
      "metadata": {
        "raw_mimetype": "text/html"
      },
      "source": [
        "<!--   facet_grid(active ~ measure) + -->"
      ],
      "id": "48521b70-81bf-4f40-99df-db64a5d95a12"
    },
    {
      "cell_type": "raw",
      "metadata": {
        "raw_mimetype": "text/html"
      },
      "source": [
        "<!--   theme_classic() + -->"
      ],
      "id": "7686bd14-4496-430e-a14b-c7178c565067"
    },
    {
      "cell_type": "raw",
      "metadata": {
        "raw_mimetype": "text/html"
      },
      "source": [
        "<!--   labs(y = NULL, -->"
      ],
      "id": "a6644dc7-ee4b-46fe-8eff-1f1e11a69429"
    },
    {
      "cell_type": "raw",
      "metadata": {
        "raw_mimetype": "text/html"
      },
      "source": [
        "<!--        x = NULL) + -->"
      ],
      "id": "ed3042f8-a9f3-4059-acde-1cdf40c89424"
    },
    {
      "cell_type": "raw",
      "metadata": {
        "raw_mimetype": "text/html"
      },
      "source": [
        "<!--   theme(legend.position = \"none\", -->"
      ],
      "id": "b2e88752-4b53-4de1-a926-f499fd6e4f67"
    },
    {
      "cell_type": "raw",
      "metadata": {
        "raw_mimetype": "text/html"
      },
      "source": [
        "<!--         axis.text.x=element_blank(), -->"
      ],
      "id": "493bab97-8710-470c-9e95-5b26a474967f"
    },
    {
      "cell_type": "raw",
      "metadata": {
        "raw_mimetype": "text/html"
      },
      "source": [
        "<!--         axis.ticks.x=element_blank(), -->"
      ],
      "id": "ebcca6c3-73c6-46f1-b14e-66ed3655e41d"
    },
    {
      "cell_type": "raw",
      "metadata": {
        "raw_mimetype": "text/html"
      },
      "source": [
        "<!--         text = element_text(size = 12)) + -->"
      ],
      "id": "d79e8c30-644c-49b6-b957-ec9ae92abf2e"
    },
    {
      "cell_type": "raw",
      "metadata": {
        "raw_mimetype": "text/html"
      },
      "source": [
        "<!--   ylim(0, .65) + -->"
      ],
      "id": "de73b728-d8da-4972-a7ab-d92a6b6accdc"
    },
    {
      "cell_type": "raw",
      "metadata": {
        "raw_mimetype": "text/html"
      },
      "source": [
        "<!--   geom_vline(aes(xintercept = means), dislike_plot_data %>%  -->"
      ],
      "id": "166b7028-d6f4-479a-9e40-997eb6a019b8"
    },
    {
      "cell_type": "raw",
      "metadata": {
        "raw_mimetype": "text/html"
      },
      "source": [
        "<!--   filter(measure == \"Audio check-in\" | measure == \"EMA\" | measure == \"Sleep quality\") %>%  -->"
      ],
      "id": "c3b6e76d-90be-44b5-b349-0e3f451145b3"
    },
    {
      "cell_type": "raw",
      "metadata": {
        "raw_mimetype": "text/html"
      },
      "source": [
        "<!--   group_by(measure) %>%  -->"
      ],
      "id": "dfbd9a74-d30a-4087-b360-59a9e9dec5ab"
    },
    {
      "cell_type": "raw",
      "metadata": {
        "raw_mimetype": "text/html"
      },
      "source": [
        "<!--   summarise(means = mean(as.numeric(value), na.rm = TRUE)), size = .705, color = \"#b44343\") + -->"
      ],
      "id": "c07775e0-345f-49be-ac82-4bd636839f90"
    },
    {
      "cell_type": "raw",
      "metadata": {
        "raw_mimetype": "text/html"
      },
      "source": [
        "<!--   geom_vline(aes(xintercept = \"Undecided\"), linetype = \"dashed\", size = .4, color = \"#787575\") + -->"
      ],
      "id": "d828068a-850c-4664-b518-d979e2023f3f"
    },
    {
      "cell_type": "raw",
      "metadata": {
        "raw_mimetype": "text/html"
      },
      "source": [
        "<!--   theme(text = element_text(size = 12)) -->"
      ],
      "id": "712fe29f-8f73-4e62-a1d5-56ab82b352fd"
    },
    {
      "cell_type": "raw",
      "metadata": {
        "raw_mimetype": "text/html"
      },
      "source": [
        "<!-- passive_dis <- dislike_plot_data %>%  -->"
      ],
      "id": "4caf757f-bb1d-47ca-be70-1251ef80e8f3"
    },
    {
      "cell_type": "raw",
      "metadata": {
        "raw_mimetype": "text/html"
      },
      "source": [
        "<!--   filter(measure == \"Geolocation\" | measure == \"Cellular communication logs\" | measure == \"SMS text message content\") %>%  -->"
      ],
      "id": "52733fe3-e39c-4c1f-8836-5b04855ef531"
    },
    {
      "cell_type": "raw",
      "metadata": {
        "raw_mimetype": "text/html"
      },
      "source": [
        "<!--   ggplot(aes(x = value, y = ..prop.., group = measure)) + -->"
      ],
      "id": "3b1c9d25-2d13-4158-b241-f6c5af6947fa"
    },
    {
      "cell_type": "raw",
      "metadata": {
        "raw_mimetype": "text/html"
      },
      "source": [
        "<!--   geom_bar(color = \"black\", fill = \"#DBF8FF\") + -->"
      ],
      "id": "075f0678-6128-4428-87c2-3df0ee794e13"
    },
    {
      "cell_type": "raw",
      "metadata": {
        "raw_mimetype": "text/html"
      },
      "source": [
        "<!--   facet_grid(active ~ measure) + -->"
      ],
      "id": "60f8a180-81d0-490d-9781-c5229ce012ed"
    },
    {
      "cell_type": "raw",
      "metadata": {
        "raw_mimetype": "text/html"
      },
      "source": [
        "<!--   theme_classic() + -->"
      ],
      "id": "c112c10a-83ee-43f8-802e-2d0ee68b9df9"
    },
    {
      "cell_type": "raw",
      "metadata": {
        "raw_mimetype": "text/html"
      },
      "source": [
        "<!--   labs(y = NULL, -->"
      ],
      "id": "3ecaeea9-bd1d-4704-9937-cdc92c84ad68"
    },
    {
      "cell_type": "raw",
      "metadata": {
        "raw_mimetype": "text/html"
      },
      "source": [
        "<!--        x = NULL) + -->"
      ],
      "id": "6390048d-bd58-47b2-a069-49e5377795d3"
    },
    {
      "cell_type": "raw",
      "metadata": {
        "raw_mimetype": "text/html"
      },
      "source": [
        "<!--     theme(legend.position = \"none\", -->"
      ],
      "id": "27ca94c5-6137-495f-b264-c1cacd9f450f"
    },
    {
      "cell_type": "raw",
      "metadata": {
        "raw_mimetype": "text/html"
      },
      "source": [
        "<!--         text = element_text(size = 12), -->"
      ],
      "id": "62346ebb-e2c1-4fc7-a7ae-df66411b76ac"
    },
    {
      "cell_type": "raw",
      "metadata": {
        "raw_mimetype": "text/html"
      },
      "source": [
        "<!--         axis.text.x = element_text(angle = 45, hjust = 1)) + -->"
      ],
      "id": "07f338fd-2394-4f3f-843b-e07ca453db50"
    },
    {
      "cell_type": "raw",
      "metadata": {
        "raw_mimetype": "text/html"
      },
      "source": [
        "<!--   ylim(0, .6) + -->"
      ],
      "id": "eb4b2915-37c2-4ebe-802e-09c328633025"
    },
    {
      "cell_type": "raw",
      "metadata": {
        "raw_mimetype": "text/html"
      },
      "source": [
        "<!--   geom_vline(aes(xintercept = means), dislike_plot_data %>%  -->"
      ],
      "id": "53e3207d-64ff-4eb1-b3ac-d2149f939e22"
    },
    {
      "cell_type": "raw",
      "metadata": {
        "raw_mimetype": "text/html"
      },
      "source": [
        "<!--   filter(measure == \"Geolocation\" | measure == \"Cellular communication logs\" | measure == \"SMS text message content\") %>%   -->"
      ],
      "id": "1941715a-da13-4496-b3df-3af94dc76dc5"
    },
    {
      "cell_type": "raw",
      "metadata": {
        "raw_mimetype": "text/html"
      },
      "source": [
        "<!--   group_by(measure) %>%  -->"
      ],
      "id": "a9fec9fc-a467-4860-bd09-01a81c46f6dd"
    },
    {
      "cell_type": "raw",
      "metadata": {
        "raw_mimetype": "text/html"
      },
      "source": [
        "<!--   summarise(means = mean(as.numeric(value), na.rm = TRUE)), size = .705, color = \"#05667b\") + -->"
      ],
      "id": "8ce1dc61-0950-4205-84db-cf44813820d2"
    },
    {
      "cell_type": "raw",
      "metadata": {
        "raw_mimetype": "text/html"
      },
      "source": [
        "<!--   geom_vline(aes(xintercept = \"Undecided\"), linetype = \"dashed\", size = .4, color = \"#787575\")  -->"
      ],
      "id": "c307bee5-28db-41df-bd33-04f19d71417d"
    },
    {
      "cell_type": "raw",
      "metadata": {
        "raw_mimetype": "text/html"
      },
      "source": [
        "<!-- dislike_plot <- wrap_plots(active_dis, passive_dis, ncol = 1) -->"
      ],
      "id": "b385d6b9-3d4f-4470-8b7d-15c40fa51aa9"
    },
    {
      "cell_type": "raw",
      "metadata": {
        "raw_mimetype": "text/html"
      },
      "source": [
        "<!-- dislike_plot <- dislike_plot  %>%  -->"
      ],
      "id": "d95aa9b0-85aa-4935-b623-f435d8973420"
    },
    {
      "cell_type": "raw",
      "metadata": {
        "raw_mimetype": "text/html"
      },
      "source": [
        "<!--   add_global_label(Ylab = \"                   Proportion\", -->"
      ],
      "id": "f14fdfcb-f39e-4893-a611-d75153a3bcb2"
    },
    {
      "cell_type": "raw",
      "metadata": {
        "raw_mimetype": "text/html"
      },
      "source": [
        "<!--                    Ygap = .02 -->"
      ],
      "id": "d3980a2a-98d1-4854-a218-b17ddc234a55"
    },
    {
      "cell_type": "raw",
      "metadata": {
        "raw_mimetype": "text/html"
      },
      "source": [
        "<!-- ) -->"
      ],
      "id": "21b1f193-9a95-433d-8d2f-8fb12ef06e99"
    },
    {
      "cell_type": "raw",
      "metadata": {
        "raw_mimetype": "text/html"
      },
      "source": [
        "<!-- dislike_plot -->"
      ],
      "id": "a9e96d34-b3e9-45d1-890f-43bbad410c29"
    },
    {
      "cell_type": "raw",
      "metadata": {
        "raw_mimetype": "text/html"
      },
      "source": [
        "<!-- ``` -->"
      ],
      "id": "7533d513-4fc9-4b57-8851-c3f0ab3a4d49"
    },
    {
      "cell_type": "raw",
      "metadata": {
        "raw_mimetype": "text/html"
      },
      "source": [
        "<!-- ```{r} -->"
      ],
      "id": "66e15e2c-ad35-4854-a029-573b30cf629b"
    },
    {
      "cell_type": "raw",
      "metadata": {
        "raw_mimetype": "text/html"
      },
      "source": [
        "<!-- #| label: fig-willingness -->"
      ],
      "id": "b3b4e027-51d7-49bd-9cce-c60c07025fd4"
    },
    {
      "cell_type": "raw",
      "metadata": {
        "raw_mimetype": "text/html"
      },
      "source": [
        "<!-- #| fig-cap: \"I would be willing to use [personal sensing method] for one year to help with my recovery\" -->"
      ],
      "id": "10cf47d2-f845-473f-b5f3-c7707c73aef0"
    },
    {
      "cell_type": "raw",
      "metadata": {
        "raw_mimetype": "text/html"
      },
      "source": [
        "<!-- willingness_plot_data <- data_last %>%  -->"
      ],
      "id": "85f0453c-ec2a-4d39-8c6a-37c894bbfc97"
    },
    {
      "cell_type": "raw",
      "metadata": {
        "raw_mimetype": "text/html"
      },
      "source": [
        "<!--   select(contains(\"1year\")) %>%   -->"
      ],
      "id": "2bdee9d8-b4a9-45cd-9222-d3ef4800bd83"
    },
    {
      "cell_type": "raw",
      "metadata": {
        "raw_mimetype": "text/html"
      },
      "source": [
        "<!--   pivot_longer(everything(), names_to = \"measure\", values_drop_na = TRUE) %>%  -->"
      ],
      "id": "4797021f-6d05-4c0e-8b5b-22ad1ba446fb"
    },
    {
      "cell_type": "raw",
      "metadata": {
        "raw_mimetype": "text/html"
      },
      "source": [
        "<!--   mutate(measure = factor(measure,  -->"
      ],
      "id": "cf9a42e8-9c89-4a73-b175-126de93fa1db"
    },
    {
      "cell_type": "raw",
      "metadata": {
        "raw_mimetype": "text/html"
      },
      "source": [
        "<!--                           levels = c(\"audio_checkin_1year\", \"daily_survey_4_1year\",  -->"
      ],
      "id": "f99ea0de-8689-45c6-afac-6a474b837d43"
    },
    {
      "cell_type": "raw",
      "metadata": {
        "raw_mimetype": "text/html"
      },
      "source": [
        "<!--                                      \"daily_survey_1_1year\", \"sleep_1year\", \"location_1year\",  -->"
      ],
      "id": "6788b816-686d-4a20-9f8a-0a03cdbc4981"
    },
    {
      "cell_type": "raw",
      "metadata": {
        "raw_mimetype": "text/html"
      },
      "source": [
        "<!--                                      \"all_logs_1year\", \"sms_content_1year\"), -->"
      ],
      "id": "17435f48-0c7a-4d2a-9766-b3659f8acc42"
    },
    {
      "cell_type": "raw",
      "metadata": {
        "raw_mimetype": "text/html"
      },
      "source": [
        "<!--                           labels = c(\"Audio check-in\", \"EMA\", \"Daily Survey (x1)<i><sup>a</sup></i>\", -->"
      ],
      "id": "4a26a749-dfef-425e-993e-ba6db03ebb27"
    },
    {
      "cell_type": "raw",
      "metadata": {
        "raw_mimetype": "text/html"
      },
      "source": [
        "<!--                                      \"Sleep quality\", \"Geolocation\", \"Cellular communication logs\",  -->"
      ],
      "id": "f9939f8f-7e7a-4af5-869a-29516d16a593"
    },
    {
      "cell_type": "raw",
      "metadata": {
        "raw_mimetype": "text/html"
      },
      "source": [
        "<!--                                      \"SMS text message content\"))) %>%  -->"
      ],
      "id": "c3b39e67-8923-4e1b-bd2b-f836c104e3dd"
    },
    {
      "cell_type": "raw",
      "metadata": {
        "raw_mimetype": "text/html"
      },
      "source": [
        "<!--   mutate(value = factor(value, levels = c(-2:2), labels = c(\"Strongly disagree\", \"Disagree\", \"Undecided\", \"Agree\", \"Strongly agree\"))) %>%  -->"
      ],
      "id": "11e91771-8216-4444-9657-54c6cd297fdc"
    },
    {
      "cell_type": "raw",
      "metadata": {
        "raw_mimetype": "text/html"
      },
      "source": [
        "<!--   mutate(active = case_when(measure == \"Audio check-in\" ~ \"Active methods\", -->"
      ],
      "id": "d7fc54ea-b959-4bfb-a16b-9f8771ccdef1"
    },
    {
      "cell_type": "raw",
      "metadata": {
        "raw_mimetype": "text/html"
      },
      "source": [
        "<!--                             measure == \"EMA\" ~ \"Active methods\", -->"
      ],
      "id": "acea2454-7135-4a76-a364-57a749dfee30"
    },
    {
      "cell_type": "raw",
      "metadata": {
        "raw_mimetype": "text/html"
      },
      "source": [
        "<!--                             measure == \"Sleep quality\" ~ \"Active methods\", -->"
      ],
      "id": "3311c5cc-95bc-41fe-bb87-92d8c9cd83f5"
    },
    {
      "cell_type": "raw",
      "metadata": {
        "raw_mimetype": "text/html"
      },
      "source": [
        "<!--                             measure == \"Geolocation\" ~ \"Passive methods\", -->"
      ],
      "id": "8398fbe2-4b24-4782-a720-04f2dc868af0"
    },
    {
      "cell_type": "raw",
      "metadata": {
        "raw_mimetype": "text/html"
      },
      "source": [
        "<!--                             measure == \"Cellular communication logs\" ~ \"Passive methods\", -->"
      ],
      "id": "d25e1a90-9095-4846-9b12-bc99d82377c6"
    },
    {
      "cell_type": "raw",
      "metadata": {
        "raw_mimetype": "text/html"
      },
      "source": [
        "<!--                             measure == \"SMS text message content\" ~ \"Passive methods\"))  -->"
      ],
      "id": "d7cf50b9-d178-42bb-833a-3bba56588cdd"
    },
    {
      "cell_type": "raw",
      "metadata": {
        "raw_mimetype": "text/html"
      },
      "source": [
        "<!-- willingness_active <- willingness_plot_data %>%  -->"
      ],
      "id": "353db753-2051-4019-97e7-91fd86ab57e3"
    },
    {
      "cell_type": "raw",
      "metadata": {
        "raw_mimetype": "text/html"
      },
      "source": [
        "<!--   filter(measure == \"Audio check-in\" | measure == \"EMA\" | measure == \"Sleep quality\") %>%  -->"
      ],
      "id": "6ab25d72-5110-4f78-8085-35479c9562ef"
    },
    {
      "cell_type": "raw",
      "metadata": {
        "raw_mimetype": "text/html"
      },
      "source": [
        "<!--   ggplot(aes(x = value, y = ..prop.., group = measure)) + -->"
      ],
      "id": "c5ccbf9a-08b1-40cf-bb69-1d583006f026"
    },
    {
      "cell_type": "raw",
      "metadata": {
        "raw_mimetype": "text/html"
      },
      "source": [
        "<!--   geom_bar(color = \"black\", fill = \"#FFDEDE\") + -->"
      ],
      "id": "eb247136-7399-438f-8ab2-4c9d8b24ec62"
    },
    {
      "cell_type": "raw",
      "metadata": {
        "raw_mimetype": "text/html"
      },
      "source": [
        "<!--   facet_grid(active ~ measure) + -->"
      ],
      "id": "8a1261bd-514c-4168-a76f-4ee7f458ec22"
    },
    {
      "cell_type": "raw",
      "metadata": {
        "raw_mimetype": "text/html"
      },
      "source": [
        "<!--   theme_classic() + -->"
      ],
      "id": "266465f3-d99c-4a89-8274-344b0549e702"
    },
    {
      "cell_type": "raw",
      "metadata": {
        "raw_mimetype": "text/html"
      },
      "source": [
        "<!--   labs(y = NULL, -->"
      ],
      "id": "742ab915-7717-479a-b857-7a939bafdc67"
    },
    {
      "cell_type": "raw",
      "metadata": {
        "raw_mimetype": "text/html"
      },
      "source": [
        "<!--        x = NULL) + -->"
      ],
      "id": "904545f9-ea38-4c4e-b084-6dd3747698de"
    },
    {
      "cell_type": "raw",
      "metadata": {
        "raw_mimetype": "text/html"
      },
      "source": [
        "<!--   theme(legend.position = \"none\", -->"
      ],
      "id": "48836ae5-43bb-48ec-b1a8-e0e385a3fdf6"
    },
    {
      "cell_type": "raw",
      "metadata": {
        "raw_mimetype": "text/html"
      },
      "source": [
        "<!--         axis.text.x=element_blank(), -->"
      ],
      "id": "400875d3-d953-4101-93f7-f68e3f5da386"
    },
    {
      "cell_type": "raw",
      "metadata": {
        "raw_mimetype": "text/html"
      },
      "source": [
        "<!--         axis.ticks.x=element_blank(), -->"
      ],
      "id": "cb908456-7300-4328-b248-c362f92fa0e8"
    },
    {
      "cell_type": "raw",
      "metadata": {
        "raw_mimetype": "text/html"
      },
      "source": [
        "<!--         text = element_text(size = 12), -->"
      ],
      "id": "8fd3c2ce-b021-4765-a7ac-b13f76ed91f4"
    },
    {
      "cell_type": "raw",
      "metadata": {
        "raw_mimetype": "text/html"
      },
      "source": [
        "<!--         strip.text = element_markdown()) + -->"
      ],
      "id": "3d673cf6-6126-4144-81c2-6c0855c46ce9"
    },
    {
      "cell_type": "raw",
      "metadata": {
        "raw_mimetype": "text/html"
      },
      "source": [
        "<!--   ylim(0, .6) + -->"
      ],
      "id": "558cf31a-ef1a-4b3a-ab3b-8dc00f0a2dea"
    },
    {
      "cell_type": "raw",
      "metadata": {
        "raw_mimetype": "text/html"
      },
      "source": [
        "<!--   geom_vline(aes(xintercept = means), willingness_plot_data %>%  -->"
      ],
      "id": "da0c02fd-c89f-46e4-8084-3aa07834258d"
    },
    {
      "cell_type": "raw",
      "metadata": {
        "raw_mimetype": "text/html"
      },
      "source": [
        "<!--   filter(measure == \"Audio check-in\" | measure == \"EMA\" | measure == \"Sleep quality\") %>%  -->"
      ],
      "id": "877d01d1-b1f0-49d7-be6d-23e2f39c0e36"
    },
    {
      "cell_type": "raw",
      "metadata": {
        "raw_mimetype": "text/html"
      },
      "source": [
        "<!--   group_by(measure) %>%  -->"
      ],
      "id": "dca6a13d-601d-48dc-8358-18b954173fd1"
    },
    {
      "cell_type": "raw",
      "metadata": {
        "raw_mimetype": "text/html"
      },
      "source": [
        "<!--   summarise(means = mean(as.numeric(value), na.rm = TRUE)), size = .705, color = \"#b44343\") + -->"
      ],
      "id": "1c9f4748-3444-4131-8f49-681427aa0901"
    },
    {
      "cell_type": "raw",
      "metadata": {
        "raw_mimetype": "text/html"
      },
      "source": [
        "<!--   geom_vline(aes(xintercept = \"Undecided\"), linetype = \"dashed\", size = .4, color = \"#787575\") -->"
      ],
      "id": "24d51046-606e-4056-8d76-b5e0aa7a445d"
    },
    {
      "cell_type": "raw",
      "metadata": {
        "raw_mimetype": "text/html"
      },
      "source": [
        "<!-- willingness_passive <- willingness_plot_data %>%  -->"
      ],
      "id": "2a5d5d51-b2c9-4617-9615-18915e6c2a99"
    },
    {
      "cell_type": "raw",
      "metadata": {
        "raw_mimetype": "text/html"
      },
      "source": [
        "<!--   filter(measure == \"Geolocation\" | measure == \"Cellular communication logs\" | measure == \"SMS text message content\") %>%  -->"
      ],
      "id": "63b6c9c8-2e3b-4cf5-ac46-a65415031a5b"
    },
    {
      "cell_type": "raw",
      "metadata": {
        "raw_mimetype": "text/html"
      },
      "source": [
        "<!--   ggplot(aes(x = value, y = ..prop.., group = measure)) + -->"
      ],
      "id": "c3102785-c659-49df-8a81-19975d7f8fd0"
    },
    {
      "cell_type": "raw",
      "metadata": {
        "raw_mimetype": "text/html"
      },
      "source": [
        "<!--   geom_bar(color = \"black\", fill = \"#DBF8FF\") + -->"
      ],
      "id": "014e67bf-ca7b-4b70-8b0d-889025a18705"
    },
    {
      "cell_type": "raw",
      "metadata": {
        "raw_mimetype": "text/html"
      },
      "source": [
        "<!--   facet_grid(active ~ measure) + -->"
      ],
      "id": "2f8ace52-cd23-4213-8e51-c57c8b6c908c"
    },
    {
      "cell_type": "raw",
      "metadata": {
        "raw_mimetype": "text/html"
      },
      "source": [
        "<!--   theme_classic() + -->"
      ],
      "id": "83d61c74-91e5-4182-bd44-1fee50f8c69f"
    },
    {
      "cell_type": "raw",
      "metadata": {
        "raw_mimetype": "text/html"
      },
      "source": [
        "<!--   labs(y = NULL, -->"
      ],
      "id": "cdc3657f-a290-42b9-8808-6944b597bc16"
    },
    {
      "cell_type": "raw",
      "metadata": {
        "raw_mimetype": "text/html"
      },
      "source": [
        "<!--        x = NULL) + -->"
      ],
      "id": "bbdef348-9ed5-4e92-b102-6976e45dea27"
    },
    {
      "cell_type": "raw",
      "metadata": {
        "raw_mimetype": "text/html"
      },
      "source": [
        "<!--     theme(legend.position = \"none\", -->"
      ],
      "id": "cb1badc9-ffbc-47da-91bd-d6754f2e8b35"
    },
    {
      "cell_type": "raw",
      "metadata": {
        "raw_mimetype": "text/html"
      },
      "source": [
        "<!--         text = element_text(size = 12), -->"
      ],
      "id": "4431d192-51a0-4046-9fcc-6c0dca45c5e6"
    },
    {
      "cell_type": "raw",
      "metadata": {
        "raw_mimetype": "text/html"
      },
      "source": [
        "<!--         axis.text.x = element_text(angle = 45, hjust = 1)) + -->"
      ],
      "id": "f7d8f088-4f7e-4eb4-8dde-0edf4faece77"
    },
    {
      "cell_type": "raw",
      "metadata": {
        "raw_mimetype": "text/html"
      },
      "source": [
        "<!--   ylim(0, .6) + -->"
      ],
      "id": "52e36539-28f3-45a1-ab96-74303b568d87"
    },
    {
      "cell_type": "raw",
      "metadata": {
        "raw_mimetype": "text/html"
      },
      "source": [
        "<!--   geom_vline(aes(xintercept = means), willingness_plot_data %>%  -->"
      ],
      "id": "52b052b0-e8e5-47d7-a2bb-a9cce78e3787"
    },
    {
      "cell_type": "raw",
      "metadata": {
        "raw_mimetype": "text/html"
      },
      "source": [
        "<!--   filter(measure == \"Geolocation\" | measure == \"Cellular communication logs\" | measure == \"SMS text message content\") %>%   -->"
      ],
      "id": "f9952d38-2716-405d-905a-3802c609cf1e"
    },
    {
      "cell_type": "raw",
      "metadata": {
        "raw_mimetype": "text/html"
      },
      "source": [
        "<!--   group_by(measure) %>%  -->"
      ],
      "id": "6d45a166-4f99-492f-8761-b337b2606cb1"
    },
    {
      "cell_type": "raw",
      "metadata": {
        "raw_mimetype": "text/html"
      },
      "source": [
        "<!--   summarise(means = mean(as.numeric(value), na.rm = TRUE)), size = .705, color = \"#05667b\") + -->"
      ],
      "id": "81603735-a979-4e6f-8efa-0525f32ad1f9"
    },
    {
      "cell_type": "raw",
      "metadata": {
        "raw_mimetype": "text/html"
      },
      "source": [
        "<!--   geom_vline(aes(xintercept = \"Undecided\"), linetype = \"dashed\", size = .4, color = \"#787575\") -->"
      ],
      "id": "523bdd61-4d14-4cce-8fcf-1e8cdf04f9a6"
    },
    {
      "cell_type": "raw",
      "metadata": {
        "raw_mimetype": "text/html"
      },
      "source": [
        "<!-- willingness_final_plot <- wrap_plots(willingness_active, willingness_passive, ncol = 1) -->"
      ],
      "id": "3abd9f65-36dc-4935-8fe0-9ff1691a1e28"
    },
    {
      "cell_type": "raw",
      "metadata": {
        "raw_mimetype": "text/html"
      },
      "source": [
        "<!-- willingness_final_plot <- willingness_final_plot  %>%  -->"
      ],
      "id": "cb39f308-0adf-410c-8b3a-bab485328e69"
    },
    {
      "cell_type": "raw",
      "metadata": {
        "raw_mimetype": "text/html"
      },
      "source": [
        "<!--   add_global_label(Ylab = \"                   Proportion\", -->"
      ],
      "id": "e1f58566-a2b5-4fd9-9a40-a091ecfbd26c"
    },
    {
      "cell_type": "raw",
      "metadata": {
        "raw_mimetype": "text/html"
      },
      "source": [
        "<!--                    Ygap = .02 -->"
      ],
      "id": "d9e316ea-30ec-4ead-8dcb-31ae3b2fe915"
    },
    {
      "cell_type": "raw",
      "metadata": {
        "raw_mimetype": "text/html"
      },
      "source": [
        "<!-- ) -->"
      ],
      "id": "14bc3985-0a69-4e13-ab90-6671e8c9192c"
    },
    {
      "cell_type": "raw",
      "metadata": {
        "raw_mimetype": "text/html"
      },
      "source": [
        "<!-- willingness_final_plot -->"
      ],
      "id": "db63d31e-4e7c-4082-82c9-789ac00ef910"
    },
    {
      "cell_type": "raw",
      "metadata": {
        "raw_mimetype": "text/html"
      },
      "source": [
        "<!-- ``` -->"
      ],
      "id": "73495b33-4460-486b-8267-9d98d201a452"
    }
  ],
  "nbformat": 4,
  "nbformat_minor": 5,
  "metadata": {
    "kernelspec": {
      "display_name": "Python 3",
      "language": "python",
      "name": "python3"
    }
  }
}